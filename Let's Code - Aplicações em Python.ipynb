{
 "cells": [
  {
   "cell_type": "markdown",
   "id": "a968b404",
   "metadata": {},
   "source": [
    "# 🐍  Manipulação de Arquivos em Python"
   ]
  },
  {
   "cell_type": "markdown",
   "id": "1966e686",
   "metadata": {},
   "source": [
    "**Para abrirmos um arquivo devemos fornecer o caminho do arquivo, o modo de abertura,  assim como a decodificação do arquivo. Após abrir o arquivo, deve-se sempre lembrar de fechá-lo.**"
   ]
  },
  {
   "cell_type": "code",
   "execution_count": 1,
   "id": "80f8fc5e",
   "metadata": {},
   "outputs": [
    {
     "name": "stdout",
     "output_type": "stream",
     "text": [
      "Dom Casmurro\n",
      "de Machado de Assis\n",
      "CAPÍTULO I\n",
      "DO TÍTULO\n",
      "Uma noite destas, vindo da cidade para o Engenho Novo, encontrei num trem\n",
      "da Central um rapaz aqui do bairro, que eu conheço de vista e de chapéu.\n",
      "Cumprimentou-me, sentou-se ao pé de mim, falou da lua e dos ministros, e acabou\n",
      "recitando-me versos. A viagem era curta, e os versos pode ser que não fossem\n",
      "inteiramente maus. Sucedeu, porém, que, como eu estava cansado, fechei os olhos\n",
      "três ou quatro vezes; tanto bastou para que ele interrompesse a leitura e metesse os\n",
      "versos no bolso.\n",
      "— Continue, disse eu acordando.\n",
      "— Já acabei, murmurou ele.\n",
      "— São muito bonitos.\n",
      "Vi-lhe fazer um gesto para tirá-los outra vez do bolso, mas não passou do\n",
      "gesto; estava amuado. No dia seguinte entrou a dizer de mim nomes feios, e acabou\n",
      "alcunhando-me Dom Casmurro. Os vizinhos, que não gostam dos meus hábitos\n",
      "reclusos e calados, deram curso à alcunha, que afinal pegou. Nem por isso me\n",
      "zanguei. Contei a anedota aos amigos da cidade, e eles, por graça, chamam-me\n",
      "assim, alguns em bilhetes: \"Dom Casmurro, domingo vou jantar com você.\"—\"Vou\n",
      "para Petrópolis, Dom Casmurro; a casa é a mesma da Renania; vê se deixas essa\n",
      "caverna do Engenho Novo, e vai lá passar uns quinze dias comigo.\"—\"Meu caro\n",
      "Dom Casmurro, não cuide que o dispenso do teatro amanhã; venha e dormirá aqui\n",
      "na cidade; dou-lhe camarote, dou-lhe chá, dou-lhe cama; só não lhe dou moça.\"\n",
      "Não consultes dicionários. Casmurro não está aqui no sentido que eles lhe\n",
      "dão, mas no que lhe pôs o vulgo de homem calado e metido consigo. Dom veio por\n",
      "ironia, para atribuir-me fumos de fidalgo. Tudo por estar cochilando! Também não\n",
      "achei melhor título para a minha narração — se não tiver outro daqui até ao fim do\n",
      "livro, vai este mesmo. O meu poeta do trem ficará sabendo que não lhe guardo\n",
      "rancor. E com pequeno esforço, sendo o título seu, poderá cuidar que a obra é sua.\n",
      "Há livros que apenas terão isso dos seus autores; alguns nem tanto.\n",
      "\n"
     ]
    }
   ],
   "source": [
    "file = open('files/dom_casmurro.txt', 'r', encoding='utf-8')\n",
    "text = file.read()\n",
    "print(text)\n",
    "file.close()"
   ]
  },
  {
   "cell_type": "markdown",
   "id": "265c2bf0",
   "metadata": {},
   "source": [
    "## 📑 Leitura em arquivos"
   ]
  },
  {
   "cell_type": "markdown",
   "id": "f64abb31",
   "metadata": {},
   "source": [
    "**Ao fazermos manipulções nas linhas é mantido um cursor no arquivo. No exemplo abaixo, o arquivo é lido linha a linha até chegar ao final dele.**"
   ]
  },
  {
   "cell_type": "markdown",
   "id": "039e647f",
   "metadata": {},
   "source": [
    "### While"
   ]
  },
  {
   "cell_type": "code",
   "execution_count": 3,
   "id": "723d56da",
   "metadata": {},
   "outputs": [
    {
     "name": "stdout",
     "output_type": "stream",
     "text": [
      "Dom Casmurro\n",
      "de Machado de Assis\n",
      "CAPÍTULO I\n",
      "DO TÍTULO\n",
      "Uma noite destas, vindo da cidade para o Engenho Novo, encontrei num trem\n",
      "da Central um rapaz aqui do bairro, que eu conheço de vista e de chapéu.\n",
      "Cumprimentou-me, sentou-se ao pé de mim, falou da lua e dos ministros, e acabou\n",
      "recitando-me versos. A viagem era curta, e os versos pode ser que não fossem\n",
      "inteiramente maus. Sucedeu, porém, que, como eu estava cansado, fechei os olhos\n",
      "três ou quatro vezes; tanto bastou para que ele interrompesse a leitura e metesse os\n",
      "versos no bolso.\n",
      "— Continue, disse eu acordando.\n",
      "— Já acabei, murmurou ele.\n",
      "— São muito bonitos.\n",
      "Vi-lhe fazer um gesto para tirá-los outra vez do bolso, mas não passou do\n",
      "gesto; estava amuado. No dia seguinte entrou a dizer de mim nomes feios, e acabou\n",
      "alcunhando-me Dom Casmurro. Os vizinhos, que não gostam dos meus hábitos\n",
      "reclusos e calados, deram curso à alcunha, que afinal pegou. Nem por isso me\n",
      "zanguei. Contei a anedota aos amigos da cidade, e eles, por graça, chamam-me\n",
      "assim, alguns em bilhetes: \"Dom Casmurro, domingo vou jantar com você.\"—\"Vou\n",
      "para Petrópolis, Dom Casmurro; a casa é a mesma da Renania; vê se deixas essa\n",
      "caverna do Engenho Novo, e vai lá passar uns quinze dias comigo.\"—\"Meu caro\n",
      "Dom Casmurro, não cuide que o dispenso do teatro amanhã; venha e dormirá aqui\n",
      "na cidade; dou-lhe camarote, dou-lhe chá, dou-lhe cama; só não lhe dou moça.\"\n",
      "Não consultes dicionários. Casmurro não está aqui no sentido que eles lhe\n",
      "dão, mas no que lhe pôs o vulgo de homem calado e metido consigo. Dom veio por\n",
      "ironia, para atribuir-me fumos de fidalgo. Tudo por estar cochilando! Também não\n",
      "achei melhor título para a minha narração — se não tiver outro daqui até ao fim do\n",
      "livro, vai este mesmo. O meu poeta do trem ficará sabendo que não lhe guardo\n",
      "rancor. E com pequeno esforço, sendo o título seu, poderá cuidar que a obra é sua.\n",
      "Há livros que apenas terão isso dos seus autores; alguns nem tanto.\n"
     ]
    }
   ],
   "source": [
    "file = open('files/dom_casmurro.txt', 'r', encoding='utf-8')\n",
    "line = file.readline()\n",
    "\n",
    "while line != '':\n",
    "    print(line, end='')\n",
    "    line = file.readline()\n",
    "    \n",
    "file.close()"
   ]
  },
  {
   "cell_type": "markdown",
   "id": "e04fad8a",
   "metadata": {},
   "source": [
    "### For"
   ]
  },
  {
   "cell_type": "code",
   "execution_count": 4,
   "id": "ba9cdecb",
   "metadata": {},
   "outputs": [
    {
     "name": "stdout",
     "output_type": "stream",
     "text": [
      "Dom Casmurro\n",
      "de Machado de Assis\n",
      "CAPÍTULO I\n",
      "DO TÍTULO\n",
      "Uma noite destas, vindo da cidade para o Engenho Novo, encontrei num trem\n",
      "da Central um rapaz aqui do bairro, que eu conheço de vista e de chapéu.\n",
      "Cumprimentou-me, sentou-se ao pé de mim, falou da lua e dos ministros, e acabou\n",
      "recitando-me versos. A viagem era curta, e os versos pode ser que não fossem\n",
      "inteiramente maus. Sucedeu, porém, que, como eu estava cansado, fechei os olhos\n",
      "três ou quatro vezes; tanto bastou para que ele interrompesse a leitura e metesse os\n",
      "versos no bolso.\n",
      "— Continue, disse eu acordando.\n",
      "— Já acabei, murmurou ele.\n",
      "— São muito bonitos.\n",
      "Vi-lhe fazer um gesto para tirá-los outra vez do bolso, mas não passou do\n",
      "gesto; estava amuado. No dia seguinte entrou a dizer de mim nomes feios, e acabou\n",
      "alcunhando-me Dom Casmurro. Os vizinhos, que não gostam dos meus hábitos\n",
      "reclusos e calados, deram curso à alcunha, que afinal pegou. Nem por isso me\n",
      "zanguei. Contei a anedota aos amigos da cidade, e eles, por graça, chamam-me\n",
      "assim, alguns em bilhetes: \"Dom Casmurro, domingo vou jantar com você.\"—\"Vou\n",
      "para Petrópolis, Dom Casmurro; a casa é a mesma da Renania; vê se deixas essa\n",
      "caverna do Engenho Novo, e vai lá passar uns quinze dias comigo.\"—\"Meu caro\n",
      "Dom Casmurro, não cuide que o dispenso do teatro amanhã; venha e dormirá aqui\n",
      "na cidade; dou-lhe camarote, dou-lhe chá, dou-lhe cama; só não lhe dou moça.\"\n",
      "Não consultes dicionários. Casmurro não está aqui no sentido que eles lhe\n",
      "dão, mas no que lhe pôs o vulgo de homem calado e metido consigo. Dom veio por\n",
      "ironia, para atribuir-me fumos de fidalgo. Tudo por estar cochilando! Também não\n",
      "achei melhor título para a minha narração — se não tiver outro daqui até ao fim do\n",
      "livro, vai este mesmo. O meu poeta do trem ficará sabendo que não lhe guardo\n",
      "rancor. E com pequeno esforço, sendo o título seu, poderá cuidar que a obra é sua.\n",
      "Há livros que apenas terão isso dos seus autores; alguns nem tanto.\n"
     ]
    }
   ],
   "source": [
    "file = open('files/dom_casmurro.txt', 'r', encoding='utf-8')\n",
    "\n",
    "for line in file:\n",
    "    print(line, end='')\n",
    "    \n",
    "file.close()"
   ]
  },
  {
   "cell_type": "markdown",
   "id": "981414d1",
   "metadata": {},
   "source": [
    "### With"
   ]
  },
  {
   "cell_type": "markdown",
   "id": "0e48c120",
   "metadata": {},
   "source": [
    "**O comando with permite abrir o arquivo e fechá-lo de forma automática.**"
   ]
  },
  {
   "cell_type": "code",
   "execution_count": 5,
   "id": "b2c9a45c",
   "metadata": {},
   "outputs": [
    {
     "name": "stdout",
     "output_type": "stream",
     "text": [
      "Dom Casmurro\n",
      "de Machado de Assis\n",
      "CAPÍTULO I\n",
      "DO TÍTULO\n",
      "Uma noite destas, vindo da cidade para o Engenho Novo, encontrei num trem\n",
      "da Central um rapaz aqui do bairro, que eu conheço de vista e de chapéu.\n",
      "Cumprimentou-me, sentou-se ao pé de mim, falou da lua e dos ministros, e acabou\n",
      "recitando-me versos. A viagem era curta, e os versos pode ser que não fossem\n",
      "inteiramente maus. Sucedeu, porém, que, como eu estava cansado, fechei os olhos\n",
      "três ou quatro vezes; tanto bastou para que ele interrompesse a leitura e metesse os\n",
      "versos no bolso.\n",
      "— Continue, disse eu acordando.\n",
      "— Já acabei, murmurou ele.\n",
      "— São muito bonitos.\n",
      "Vi-lhe fazer um gesto para tirá-los outra vez do bolso, mas não passou do\n",
      "gesto; estava amuado. No dia seguinte entrou a dizer de mim nomes feios, e acabou\n",
      "alcunhando-me Dom Casmurro. Os vizinhos, que não gostam dos meus hábitos\n",
      "reclusos e calados, deram curso à alcunha, que afinal pegou. Nem por isso me\n",
      "zanguei. Contei a anedota aos amigos da cidade, e eles, por graça, chamam-me\n",
      "assim, alguns em bilhetes: \"Dom Casmurro, domingo vou jantar com você.\"—\"Vou\n",
      "para Petrópolis, Dom Casmurro; a casa é a mesma da Renania; vê se deixas essa\n",
      "caverna do Engenho Novo, e vai lá passar uns quinze dias comigo.\"—\"Meu caro\n",
      "Dom Casmurro, não cuide que o dispenso do teatro amanhã; venha e dormirá aqui\n",
      "na cidade; dou-lhe camarote, dou-lhe chá, dou-lhe cama; só não lhe dou moça.\"\n",
      "Não consultes dicionários. Casmurro não está aqui no sentido que eles lhe\n",
      "dão, mas no que lhe pôs o vulgo de homem calado e metido consigo. Dom veio por\n",
      "ironia, para atribuir-me fumos de fidalgo. Tudo por estar cochilando! Também não\n",
      "achei melhor título para a minha narração — se não tiver outro daqui até ao fim do\n",
      "livro, vai este mesmo. O meu poeta do trem ficará sabendo que não lhe guardo\n",
      "rancor. E com pequeno esforço, sendo o título seu, poderá cuidar que a obra é sua.\n",
      "Há livros que apenas terão isso dos seus autores; alguns nem tanto.\n",
      "\n"
     ]
    }
   ],
   "source": [
    "with open('files/dom_casmurro.txt', 'r', encoding='utf-8') as file:\n",
    "    text = file.read()\n",
    "    print(text)\n",
    "file.close()"
   ]
  },
  {
   "cell_type": "markdown",
   "id": "3fc5dbe4",
   "metadata": {},
   "source": [
    "## 📝 Escrita em arquivos"
   ]
  },
  {
   "cell_type": "markdown",
   "id": "c51ee406",
   "metadata": {},
   "source": [
    "**Para escrevermos em arquivo utilizamos o modo 'w'. Esse modo cria um arquivo caso ele não exista/seja encontrado, ou sobrescreve caso o arquivo já exista.**"
   ]
  },
  {
   "cell_type": "code",
   "execution_count": 6,
   "id": "69bb6f25",
   "metadata": {},
   "outputs": [],
   "source": [
    "with open('files/arquivo_test.txt', 'w', encoding='utf-8') as file:\n",
    "    file.write('Essa é minha primeira linha escrita em um arquivo utilizando Python\\n')\n",
    "    file.write('Essa é minha segunda linha escrita em um arquivo utilizando Python\\n')    "
   ]
  },
  {
   "cell_type": "code",
   "execution_count": 7,
   "id": "df85e9ea",
   "metadata": {},
   "outputs": [
    {
     "name": "stdout",
     "output_type": "stream",
     "text": [
      "Essa é minha primeira linha escrita em um arquivo utilizando Python\n",
      "Essa é minha segunda linha escrita em um arquivo utilizando Python\n"
     ]
    }
   ],
   "source": [
    "with open('files/arquivo_test.txt', 'r', encoding='utf-8') as file:\n",
    "    print(file.read(), end='')"
   ]
  },
  {
   "cell_type": "code",
   "execution_count": 8,
   "id": "ecec62fb",
   "metadata": {},
   "outputs": [],
   "source": [
    "with open('files/arquivo_test.txt', 'a', encoding='utf-8') as file:\n",
    "    file.write('Essa é minha terceira linha escrita em um arquivo utilizando Python\\n')"
   ]
  },
  {
   "cell_type": "code",
   "execution_count": 9,
   "id": "16b2fe49",
   "metadata": {},
   "outputs": [
    {
     "name": "stdout",
     "output_type": "stream",
     "text": [
      "Essa é minha primeira linha escrita em um arquivo utilizando Python\n",
      "Essa é minha segunda linha escrita em um arquivo utilizando Python\n",
      "Essa é minha terceira linha escrita em um arquivo utilizando Python\n"
     ]
    }
   ],
   "source": [
    "with open('files/arquivo_test.txt', 'r', encoding='utf-8') as file:\n",
    "    print(file.read(), end='')"
   ]
  },
  {
   "cell_type": "markdown",
   "id": "928c34f2",
   "metadata": {},
   "source": [
    "# 📊 Manipulação de Arquivos CSV"
   ]
  },
  {
   "cell_type": "markdown",
   "id": "50667fca",
   "metadata": {},
   "source": [
    "**Para manipularmos CSV no Python devemos importar a biblioteca CSV.**"
   ]
  },
  {
   "cell_type": "code",
   "execution_count": 10,
   "id": "fb53393f",
   "metadata": {},
   "outputs": [],
   "source": [
    "import csv"
   ]
  },
  {
   "cell_type": "code",
   "execution_count": 22,
   "id": "b0a30647",
   "metadata": {},
   "outputs": [
    {
     "name": "stdout",
     "output_type": "stream",
     "text": [
      "['2020-03-06', 'Brasil', '5', '0', '8', '0']\n",
      "['2020-03-07', 'Brasil', '5', '0', '13', '0']\n",
      "['2020-03-09', 'Brasil', '12', '0', '25', '0']\n",
      "['2020-03-11', 'Brasil', '9', '0', '34', '0']\n",
      "['2020-03-12', 'Brasil', '18', '0', '52', '0']\n",
      "['2020-03-13', 'Brasil', '25', '0', '77', '0']\n",
      "['2020-03-14', 'Brasil', '21', '0', '98', '0']\n",
      "['2020-03-15', 'Brasil', '23', '0', '121', '0']\n",
      "['2020-03-16', 'Brasil', '79', '0', '200', '0']\n",
      "['2020-03-17', 'Brasil', '34', '0', '234', '0']\n",
      "['2020-03-18', 'Brasil', '57', '1', '291', '1']\n",
      "['2020-03-19', 'Brasil', '137', '3', '428', '4']\n",
      "['2020-03-20', 'Brasil', '193', '2', '621', '6']\n",
      "['2020-03-21', 'Brasil', '283', '5', '904', '11']\n",
      "['2020-03-22', 'Brasil', '224', '7', '1128', '18']\n",
      "['2020-03-23', 'Brasil', '418', '7', '1546', '25']\n",
      "['2020-03-24', 'Brasil', '345', '9', '1891', '34']\n",
      "['2020-03-25', 'Brasil', '310', '12', '2201', '46']\n",
      "['2020-03-26', 'Brasil', '232', '11', '2433', '57']\n",
      "['2020-03-27', 'Brasil', '482', '20', '2915', '77']\n",
      "['2020-03-28', 'Brasil', '502', '15', '3417', '92']\n",
      "['2020-03-29', 'Brasil', '487', '22', '3904', '114']\n",
      "['2020-03-30', 'Brasil', '352', '22', '4256', '136']\n",
      "['2020-03-31', 'Brasil', '323', '23', '4579', '159']\n",
      "['2020-04-01', 'Brasil', '1138', '42', '5717', '201']\n",
      "['2020-04-02', 'Brasil', '1119', '40', '6836', '241']\n",
      "['2020-04-03', 'Brasil', '1074', '58', '7910', '299']\n",
      "['2020-04-04', 'Brasil', '1146', '60', '9056', '359']\n",
      "['2020-04-05', 'Brasil', '1222', '73', '10278', '432']\n",
      "['2020-04-06', 'Brasil', '852', '54', '11130', '486']\n",
      "['2020-04-07', 'Brasil', '926', '67', '12056', '553']\n",
      "['2020-04-08', 'Brasil', '1661', '114', '13717', '667']\n",
      "['2020-04-09', 'Brasil', '2210', '133', '15927', '800']\n",
      "['2020-04-10', 'Brasil', '1930', '141', '17857', '941']\n",
      "['2020-04-11', 'Brasil', '1781', '115', '19638', '1056']\n",
      "['2020-04-12', 'Brasil', '1089', '68', '20727', '1124']\n",
      "['2020-04-13', 'Brasil', '1442', '99', '22169', '1223']\n",
      "['2020-04-14', 'Brasil', '1261', '105', '23430', '1328']\n",
      "['2020-04-15', 'Brasil', '1832', '204', '25262', '1532']\n",
      "['2020-04-16', 'Brasil', '3058', '204', '28320', '1736']\n",
      "['2020-04-17', 'Brasil', '2105', '188', '30425', '1924']\n",
      "['2020-04-18', 'Brasil', '3257', '217', '33682', '2141']\n",
      "['2020-04-19', 'Brasil', '2917', '206', '36599', '2347']\n",
      "['2020-04-20', 'Brasil', '2055', '115', '38654', '2462']\n",
      "['2020-04-21', 'Brasil', '1927', '113', '40581', '2575']\n",
      "['2020-04-22', 'Brasil', '2498', '166', '43079', '2741']\n",
      "['2020-04-23', 'Brasil', '2678', '165', '45757', '2906']\n",
      "['2020-04-24', 'Brasil', '3735', '407', '49492', '3313']\n",
      "['2020-04-25', 'Brasil', '3503', '357', '52995', '3670']\n",
      "['2020-04-26', 'Brasil', '5514', '346', '58509', '4016']\n",
      "['2020-04-27', 'Brasil', '3379', '189', '61888', '4205']\n",
      "['2020-04-28', 'Brasil', '4613', '338', '66501', '4543']\n",
      "['2020-04-29', 'Brasil', '5385', '474', '71886', '5017']\n",
      "['2020-04-30', 'Brasil', '6276', '449', '78162', '5466']\n",
      "['2020-05-01', 'Brasil', '7218', '435', '85380', '5901']\n",
      "['2020-05-02', 'Brasil', '6209', '428', '91589', '6329']\n",
      "['2020-05-03', 'Brasil', '4970', '421', '96559', '6750']\n",
      "['2020-05-04', 'Brasil', '4588', '275', '101147', '7025']\n",
      "['2020-05-05', 'Brasil', '6633', '296', '107780', '7321']\n",
      "['2020-05-06', 'Brasil', '6935', '600', '114715', '7921']\n",
      "['2020-05-07', 'Brasil', '10503', '615', '125218', '8536']\n",
      "['2020-05-08', 'Brasil', '9888', '610', '135106', '9146']\n",
      "['2020-05-09', 'Brasil', '10222', '751', '145328', '9897']\n",
      "['2020-05-10', 'Brasil', '10611', '730', '155939', '10627']\n",
      "['2020-05-11', 'Brasil', '6760', '496', '162699', '11123']\n",
      "['2020-05-12', 'Brasil', '5632', '396', '168331', '11519']\n",
      "['2020-05-13', 'Brasil', '9258', '881', '177589', '12400']\n",
      "['2020-05-14', 'Brasil', '11385', '749', '188974', '13149']\n",
      "['2020-05-15', 'Brasil', '13944', '844', '202918', '13993']\n",
      "['2020-05-16', 'Brasil', '15305', '824', '218223', '14817']\n",
      "['2020-05-17', 'Brasil', '14919', '816', '233142', '15633']\n",
      "['2020-05-18', 'Brasil', '7938', '485', '241080', '16118']\n",
      "['2020-05-19', 'Brasil', '13140', '674', '254220', '16792']\n",
      "['2020-05-20', 'Brasil', '17408', '1179', '271628', '17971']\n",
      "['2020-05-21', 'Brasil', '19951', '888', '291579', '18859']\n",
      "['2020-05-22', 'Brasil', '18508', '1188', '310087', '20047']\n",
      "['2020-05-23', 'Brasil', '20803', '1001', '330890', '21048']\n",
      "['2020-05-24', 'Brasil', '16508', '965', '347398', '22013']\n",
      "['2020-05-25', 'Brasil', '15813', '653', '363211', '22666']\n",
      "['2020-05-26', 'Brasil', '11687', '807', '374898', '23473']\n",
      "['2020-05-27', 'Brasil', '16324', '1039', '391222', '24512']\n",
      "['2020-05-28', 'Brasil', '20599', '1086', '411821', '25598']\n",
      "['2020-05-29', 'Brasil', '26417', '1156', '438238', '26754']\n",
      "['2020-05-30', 'Brasil', '26928', '1124', '465166', '27878']\n",
      "['2020-05-31', 'Brasil', '33274', '956', '498440', '28834']\n",
      "['2020-06-01', 'Brasil', '16409', '480', '514849', '29314']\n",
      "['2020-06-02', 'Brasil', '11598', '623', '526447', '29937']\n",
      "['2020-06-03', 'Brasil', '28936', '1262', '555383', '31199']\n",
      "['2020-06-04', 'Brasil', '28633', '1349', '584016', '32548']\n",
      "['2020-06-05', 'Brasil', '30916', '1473', '614932', '34021']\n",
      "['2020-06-06', 'Brasil', '30830', '1005', '645762', '35026']\n",
      "['2020-06-07', 'Brasil', '27075', '904', '672837', '35930']\n",
      "['2020-06-08', 'Brasil', '18921', '525', '691758', '36455']\n",
      "['2020-06-09', 'Brasil', '15654', '679', '707412', '37134']\n",
      "['2020-06-10', 'Brasil', '32091', '1272', '739503', '38406']\n",
      "['2020-06-11', 'Brasil', '32913', '1274', '772416', '39680']\n",
      "['2020-06-12', 'Brasil', '30412', '1239', '802828', '40919']\n",
      "['2020-06-13', 'Brasil', '25982', '909', '828810', '41828']\n",
      "['2020-06-14', 'Brasil', '21704', '892', '850514', '42720']\n",
      "['2020-06-15', 'Brasil', '17110', '612', '867624', '43332']\n",
      "['2020-06-16', 'Brasil', '20647', '627', '888271', '43959']\n"
     ]
    }
   ],
   "source": [
    "with open('files/brasil_covid.csv', 'r', encoding='utf-8') as csv_file:\n",
    "    #criação de um leitor para o arquivo csv\n",
    "    reader = csv.reader(csv_file)\n",
    "    \n",
    "    #é utilizado o next para pularmos os headers do arquivo\n",
    "    next(reader)\n",
    "    \n",
    "    for line in reader:\n",
    "        if float(line[2]) > 1:\n",
    "            print(line)"
   ]
  },
  {
   "cell_type": "markdown",
   "id": "872462a5",
   "metadata": {},
   "source": [
    "**Com o código abaixo é possível obter o mesmo resultado que a biblioteca CSV.**"
   ]
  },
  {
   "cell_type": "code",
   "execution_count": 24,
   "id": "129e9e3b",
   "metadata": {},
   "outputs": [
    {
     "name": "stdout",
     "output_type": "stream",
     "text": [
      "['data', 'pais', 'novos_casos', 'novos_obitos', 'total_casos', 'total_obitos']\n",
      "['2019-12-31', 'Brasil', '0', '0', '0', '0']\n",
      "['2020-01-01', 'Brasil', '0', '0', '0', '0']\n",
      "['2020-01-02', 'Brasil', '0', '0', '0', '0']\n",
      "['2020-01-03', 'Brasil', '0', '0', '0', '0']\n",
      "['2020-01-04', 'Brasil', '0', '0', '0', '0']\n",
      "['2020-01-05', 'Brasil', '0', '0', '0', '0']\n",
      "['2020-01-06', 'Brasil', '0', '0', '0', '0']\n",
      "['2020-01-07', 'Brasil', '0', '0', '0', '0']\n",
      "['2020-01-08', 'Brasil', '0', '0', '0', '0']\n",
      "['2020-01-09', 'Brasil', '0', '0', '0', '0']\n",
      "['2020-01-10', 'Brasil', '0', '0', '0', '0']\n",
      "['2020-01-11', 'Brasil', '0', '0', '0', '0']\n",
      "['2020-01-12', 'Brasil', '0', '0', '0', '0']\n",
      "['2020-01-13', 'Brasil', '0', '0', '0', '0']\n",
      "['2020-01-14', 'Brasil', '0', '0', '0', '0']\n",
      "['2020-01-15', 'Brasil', '0', '0', '0', '0']\n",
      "['2020-01-16', 'Brasil', '0', '0', '0', '0']\n",
      "['2020-01-17', 'Brasil', '0', '0', '0', '0']\n",
      "['2020-01-18', 'Brasil', '0', '0', '0', '0']\n",
      "['2020-01-19', 'Brasil', '0', '0', '0', '0']\n",
      "['2020-01-20', 'Brasil', '0', '0', '0', '0']\n",
      "['2020-01-21', 'Brasil', '0', '0', '0', '0']\n",
      "['2020-01-22', 'Brasil', '0', '0', '0', '0']\n",
      "['2020-01-23', 'Brasil', '0', '0', '0', '0']\n",
      "['2020-01-24', 'Brasil', '0', '0', '0', '0']\n",
      "['2020-01-25', 'Brasil', '0', '0', '0', '0']\n",
      "['2020-01-26', 'Brasil', '0', '0', '0', '0']\n",
      "['2020-01-27', 'Brasil', '0', '0', '0', '0']\n",
      "['2020-01-28', 'Brasil', '0', '0', '0', '0']\n",
      "['2020-01-29', 'Brasil', '0', '0', '0', '0']\n",
      "['2020-01-30', 'Brasil', '0', '0', '0', '0']\n",
      "['2020-01-31', 'Brasil', '0', '0', '0', '0']\n",
      "['2020-02-01', 'Brasil', '0', '0', '0', '0']\n",
      "['2020-02-02', 'Brasil', '0', '0', '0', '0']\n",
      "['2020-02-03', 'Brasil', '0', '0', '0', '0']\n",
      "['2020-02-04', 'Brasil', '0', '0', '0', '0']\n",
      "['2020-02-05', 'Brasil', '0', '0', '0', '0']\n",
      "['2020-02-06', 'Brasil', '0', '0', '0', '0']\n",
      "['2020-02-07', 'Brasil', '0', '0', '0', '0']\n",
      "['2020-02-08', 'Brasil', '0', '0', '0', '0']\n",
      "['2020-02-09', 'Brasil', '0', '0', '0', '0']\n",
      "['2020-02-10', 'Brasil', '0', '0', '0', '0']\n",
      "['2020-02-11', 'Brasil', '0', '0', '0', '0']\n",
      "['2020-02-12', 'Brasil', '0', '0', '0', '0']\n",
      "['2020-02-13', 'Brasil', '0', '0', '0', '0']\n",
      "['2020-02-14', 'Brasil', '0', '0', '0', '0']\n",
      "['2020-02-15', 'Brasil', '0', '0', '0', '0']\n",
      "['2020-02-16', 'Brasil', '0', '0', '0', '0']\n",
      "['2020-02-17', 'Brasil', '0', '0', '0', '0']\n",
      "['2020-02-18', 'Brasil', '0', '0', '0', '0']\n",
      "['2020-02-19', 'Brasil', '0', '0', '0', '0']\n",
      "['2020-02-20', 'Brasil', '0', '0', '0', '0']\n",
      "['2020-02-21', 'Brasil', '0', '0', '0', '0']\n",
      "['2020-02-22', 'Brasil', '0', '0', '0', '0']\n",
      "['2020-02-23', 'Brasil', '0', '0', '0', '0']\n",
      "['2020-02-24', 'Brasil', '0', '0', '0', '0']\n",
      "['2020-02-25', 'Brasil', '0', '0', '0', '0']\n",
      "['2020-02-26', 'Brasil', '1', '0', '1', '0']\n",
      "['2020-02-27', 'Brasil', '0', '0', '1', '0']\n",
      "['2020-02-28', 'Brasil', '0', '0', '1', '0']\n",
      "['2020-02-29', 'Brasil', '0', '0', '1', '0']\n",
      "['2020-03-01', 'Brasil', '1', '0', '2', '0']\n",
      "['2020-03-02', 'Brasil', '0', '0', '2', '0']\n",
      "['2020-03-03', 'Brasil', '0', '0', '2', '0']\n",
      "['2020-03-04', 'Brasil', '0', '0', '2', '0']\n",
      "['2020-03-05', 'Brasil', '1', '0', '3', '0']\n",
      "['2020-03-06', 'Brasil', '5', '0', '8', '0']\n",
      "['2020-03-07', 'Brasil', '5', '0', '13', '0']\n",
      "['2020-03-08', 'Brasil', '0', '0', '13', '0']\n",
      "['2020-03-09', 'Brasil', '12', '0', '25', '0']\n",
      "['2020-03-10', 'Brasil', '0', '0', '25', '0']\n",
      "['2020-03-11', 'Brasil', '9', '0', '34', '0']\n",
      "['2020-03-12', 'Brasil', '18', '0', '52', '0']\n",
      "['2020-03-13', 'Brasil', '25', '0', '77', '0']\n",
      "['2020-03-14', 'Brasil', '21', '0', '98', '0']\n",
      "['2020-03-15', 'Brasil', '23', '0', '121', '0']\n",
      "['2020-03-16', 'Brasil', '79', '0', '200', '0']\n",
      "['2020-03-17', 'Brasil', '34', '0', '234', '0']\n",
      "['2020-03-18', 'Brasil', '57', '1', '291', '1']\n",
      "['2020-03-19', 'Brasil', '137', '3', '428', '4']\n",
      "['2020-03-20', 'Brasil', '193', '2', '621', '6']\n",
      "['2020-03-21', 'Brasil', '283', '5', '904', '11']\n",
      "['2020-03-22', 'Brasil', '224', '7', '1128', '18']\n",
      "['2020-03-23', 'Brasil', '418', '7', '1546', '25']\n",
      "['2020-03-24', 'Brasil', '345', '9', '1891', '34']\n",
      "['2020-03-25', 'Brasil', '310', '12', '2201', '46']\n",
      "['2020-03-26', 'Brasil', '232', '11', '2433', '57']\n",
      "['2020-03-27', 'Brasil', '482', '20', '2915', '77']\n",
      "['2020-03-28', 'Brasil', '502', '15', '3417', '92']\n",
      "['2020-03-29', 'Brasil', '487', '22', '3904', '114']\n",
      "['2020-03-30', 'Brasil', '352', '22', '4256', '136']\n",
      "['2020-03-31', 'Brasil', '323', '23', '4579', '159']\n",
      "['2020-04-01', 'Brasil', '1138', '42', '5717', '201']\n",
      "['2020-04-02', 'Brasil', '1119', '40', '6836', '241']\n",
      "['2020-04-03', 'Brasil', '1074', '58', '7910', '299']\n",
      "['2020-04-04', 'Brasil', '1146', '60', '9056', '359']\n",
      "['2020-04-05', 'Brasil', '1222', '73', '10278', '432']\n",
      "['2020-04-06', 'Brasil', '852', '54', '11130', '486']\n",
      "['2020-04-07', 'Brasil', '926', '67', '12056', '553']\n",
      "['2020-04-08', 'Brasil', '1661', '114', '13717', '667']\n",
      "['2020-04-09', 'Brasil', '2210', '133', '15927', '800']\n",
      "['2020-04-10', 'Brasil', '1930', '141', '17857', '941']\n",
      "['2020-04-11', 'Brasil', '1781', '115', '19638', '1056']\n",
      "['2020-04-12', 'Brasil', '1089', '68', '20727', '1124']\n",
      "['2020-04-13', 'Brasil', '1442', '99', '22169', '1223']\n",
      "['2020-04-14', 'Brasil', '1261', '105', '23430', '1328']\n",
      "['2020-04-15', 'Brasil', '1832', '204', '25262', '1532']\n",
      "['2020-04-16', 'Brasil', '3058', '204', '28320', '1736']\n",
      "['2020-04-17', 'Brasil', '2105', '188', '30425', '1924']\n",
      "['2020-04-18', 'Brasil', '3257', '217', '33682', '2141']\n",
      "['2020-04-19', 'Brasil', '2917', '206', '36599', '2347']\n",
      "['2020-04-20', 'Brasil', '2055', '115', '38654', '2462']\n",
      "['2020-04-21', 'Brasil', '1927', '113', '40581', '2575']\n",
      "['2020-04-22', 'Brasil', '2498', '166', '43079', '2741']\n",
      "['2020-04-23', 'Brasil', '2678', '165', '45757', '2906']\n",
      "['2020-04-24', 'Brasil', '3735', '407', '49492', '3313']\n",
      "['2020-04-25', 'Brasil', '3503', '357', '52995', '3670']\n",
      "['2020-04-26', 'Brasil', '5514', '346', '58509', '4016']\n",
      "['2020-04-27', 'Brasil', '3379', '189', '61888', '4205']\n",
      "['2020-04-28', 'Brasil', '4613', '338', '66501', '4543']\n",
      "['2020-04-29', 'Brasil', '5385', '474', '71886', '5017']\n",
      "['2020-04-30', 'Brasil', '6276', '449', '78162', '5466']\n",
      "['2020-05-01', 'Brasil', '7218', '435', '85380', '5901']\n",
      "['2020-05-02', 'Brasil', '6209', '428', '91589', '6329']\n",
      "['2020-05-03', 'Brasil', '4970', '421', '96559', '6750']\n",
      "['2020-05-04', 'Brasil', '4588', '275', '101147', '7025']\n",
      "['2020-05-05', 'Brasil', '6633', '296', '107780', '7321']\n",
      "['2020-05-06', 'Brasil', '6935', '600', '114715', '7921']\n",
      "['2020-05-07', 'Brasil', '10503', '615', '125218', '8536']\n",
      "['2020-05-08', 'Brasil', '9888', '610', '135106', '9146']\n",
      "['2020-05-09', 'Brasil', '10222', '751', '145328', '9897']\n",
      "['2020-05-10', 'Brasil', '10611', '730', '155939', '10627']\n",
      "['2020-05-11', 'Brasil', '6760', '496', '162699', '11123']\n",
      "['2020-05-12', 'Brasil', '5632', '396', '168331', '11519']\n",
      "['2020-05-13', 'Brasil', '9258', '881', '177589', '12400']\n",
      "['2020-05-14', 'Brasil', '11385', '749', '188974', '13149']\n",
      "['2020-05-15', 'Brasil', '13944', '844', '202918', '13993']\n",
      "['2020-05-16', 'Brasil', '15305', '824', '218223', '14817']\n",
      "['2020-05-17', 'Brasil', '14919', '816', '233142', '15633']\n",
      "['2020-05-18', 'Brasil', '7938', '485', '241080', '16118']\n",
      "['2020-05-19', 'Brasil', '13140', '674', '254220', '16792']\n",
      "['2020-05-20', 'Brasil', '17408', '1179', '271628', '17971']\n",
      "['2020-05-21', 'Brasil', '19951', '888', '291579', '18859']\n",
      "['2020-05-22', 'Brasil', '18508', '1188', '310087', '20047']\n",
      "['2020-05-23', 'Brasil', '20803', '1001', '330890', '21048']\n",
      "['2020-05-24', 'Brasil', '16508', '965', '347398', '22013']\n",
      "['2020-05-25', 'Brasil', '15813', '653', '363211', '22666']\n",
      "['2020-05-26', 'Brasil', '11687', '807', '374898', '23473']\n",
      "['2020-05-27', 'Brasil', '16324', '1039', '391222', '24512']\n",
      "['2020-05-28', 'Brasil', '20599', '1086', '411821', '25598']\n",
      "['2020-05-29', 'Brasil', '26417', '1156', '438238', '26754']\n",
      "['2020-05-30', 'Brasil', '26928', '1124', '465166', '27878']\n",
      "['2020-05-31', 'Brasil', '33274', '956', '498440', '28834']\n",
      "['2020-06-01', 'Brasil', '16409', '480', '514849', '29314']\n",
      "['2020-06-02', 'Brasil', '11598', '623', '526447', '29937']\n",
      "['2020-06-03', 'Brasil', '28936', '1262', '555383', '31199']\n",
      "['2020-06-04', 'Brasil', '28633', '1349', '584016', '32548']\n",
      "['2020-06-05', 'Brasil', '30916', '1473', '614932', '34021']\n",
      "['2020-06-06', 'Brasil', '30830', '1005', '645762', '35026']\n",
      "['2020-06-07', 'Brasil', '27075', '904', '672837', '35930']\n",
      "['2020-06-08', 'Brasil', '18921', '525', '691758', '36455']\n",
      "['2020-06-09', 'Brasil', '15654', '679', '707412', '37134']\n",
      "['2020-06-10', 'Brasil', '32091', '1272', '739503', '38406']\n",
      "['2020-06-11', 'Brasil', '32913', '1274', '772416', '39680']\n",
      "['2020-06-12', 'Brasil', '30412', '1239', '802828', '40919']\n",
      "['2020-06-13', 'Brasil', '25982', '909', '828810', '41828']\n",
      "['2020-06-14', 'Brasil', '21704', '892', '850514', '42720']\n",
      "['2020-06-15', 'Brasil', '17110', '612', '867624', '43332']\n",
      "['2020-06-16', 'Brasil', '20647', '627', '888271', '43959']\n"
     ]
    }
   ],
   "source": [
    "with open('files/brasil_covid.csv', 'r', encoding='utf-8') as csv_file:\n",
    "    lines = csv_file.read()\n",
    "    lines = lines.split('\\n')\n",
    "    for line in lines:\n",
    "        line = line.split(',')\n",
    "        print(line)\n",
    "       "
   ]
  },
  {
   "cell_type": "code",
   "execution_count": 28,
   "id": "26b4f5c8",
   "metadata": {},
   "outputs": [],
   "source": [
    "with open('files/users.csv', 'w', encoding='utf-8', newline='') as users_file:\n",
    "    writer = csv.writer(users_file)\n",
    "    writer.writerow(['name', 'last name', 'e-mail', 'gender'])\n",
    "    writer.writerow(['Julia', 'Miranda', 'julia@gmail.com', 'Mulher Cis'])    \n",
    "    writer.writerow(['Lina', 'Pereira', 'lina@gmail.com', 'Travesti'])        "
   ]
  },
  {
   "cell_type": "markdown",
   "id": "b9326760",
   "metadata": {},
   "source": [
    "## Exemplo - Cadastro Utilizando CSV"
   ]
  },
  {
   "cell_type": "code",
   "execution_count": 4,
   "id": "7b0f010e",
   "metadata": {},
   "outputs": [
    {
     "name": "stdout",
     "output_type": "stream",
     "text": [
      "Qual é a operação desejada?\n",
      "1 - Cadastrar \n",
      "2 - Sair \n",
      "1\n",
      "Qual o nome do usuário?: Myllene\n",
      "Qual o sobrenome do usuário?: Ferreira\n",
      "Qual é a operação desejada?\n",
      "1 - Cadastrar \n",
      "2 - Sair \n",
      "2\n",
      "[['Myllene', 'Ferreira']]\n",
      "['name', 'last name']\n",
      "[\"['Myllene', 'Ferreira']\"]\n"
     ]
    }
   ],
   "source": [
    "import csv\n",
    "\n",
    "header = ['name', 'last name']\n",
    "data = []\n",
    "op = input('Qual é a operação desejada?\\n1 - Cadastrar \\n2 - Sair \\n')\n",
    "\n",
    "while op != '2':\n",
    "    name = input('Qual o nome do usuário?: ')\n",
    "    lastname = input('Qual o sobrenome do usuário?: ')\n",
    "    data.append([name, lastname])\n",
    "    op = input('Qual é a operação desejada?\\n1 - Cadastrar \\n2 - Sair \\n')\n",
    "print(data)\n",
    "\n",
    "with open('files/users.csv', 'w', encoding='utf-8', newline='') as users_file:\n",
    "    writer = csv.writer(users_file)\n",
    "    writer.writerow(header)    \n",
    "    writer.writerow(data)    \n",
    "    \n",
    "with open ('files/users.csv', 'r', encoding='utf-8') as csv_file:\n",
    "    csv_reader = csv.reader(csv_file, delimiter=',')\n",
    "    for row in csv_reader:\n",
    "        print(row)"
   ]
  }
 ],
 "metadata": {
  "kernelspec": {
   "display_name": "Python 3 (ipykernel)",
   "language": "python",
   "name": "python3"
  },
  "language_info": {
   "codemirror_mode": {
    "name": "ipython",
    "version": 3
   },
   "file_extension": ".py",
   "mimetype": "text/x-python",
   "name": "python",
   "nbconvert_exporter": "python",
   "pygments_lexer": "ipython3",
   "version": "3.10.5"
  }
 },
 "nbformat": 4,
 "nbformat_minor": 5
}
