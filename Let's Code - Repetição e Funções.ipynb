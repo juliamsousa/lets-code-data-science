{
 "cells": [
  {
   "cell_type": "markdown",
   "id": "242dba49",
   "metadata": {},
   "source": [
    "# 🐍 Estruturas de Repetição em Python"
   ]
  },
  {
   "cell_type": "markdown",
   "id": "137ee080",
   "metadata": {},
   "source": [
    "## 🔁  For"
   ]
  },
  {
   "cell_type": "code",
   "execution_count": 8,
   "id": "caac8a9d",
   "metadata": {},
   "outputs": [
    {
     "name": "stdout",
     "output_type": "stream",
     "text": [
      "London\n",
      "Milan\n",
      "Paris\n"
     ]
    }
   ],
   "source": [
    "city_list = ['London', 'Milan', 'Paris']\n",
    "for name in city_list:\n",
    "    print(name)"
   ]
  },
  {
   "cell_type": "markdown",
   "id": "b45368a0",
   "metadata": {},
   "source": [
    "## 🔁  While"
   ]
  },
  {
   "cell_type": "code",
   "execution_count": 9,
   "id": "f14ab1ad",
   "metadata": {},
   "outputs": [
    {
     "name": "stdout",
     "output_type": "stream",
     "text": [
      "London\n",
      "Milan\n",
      "Paris\n"
     ]
    }
   ],
   "source": [
    "count = 0\n",
    "city_list = ['London', 'Milan', 'Paris']\n",
    "while count < len(city_list):\n",
    "    print(city_list[count])\n",
    "    count = count + 1"
   ]
  },
  {
   "cell_type": "markdown",
   "id": "60963e7e",
   "metadata": {},
   "source": [
    "## 🧾 Iteração com Dicionário"
   ]
  },
  {
   "cell_type": "code",
   "execution_count": 12,
   "id": "6d769788",
   "metadata": {},
   "outputs": [
    {
     "name": "stdout",
     "output_type": "stream",
     "text": [
      "name: Ouro Preto\n",
      "state: Minas Gerais\n",
      "elevation: 1150\n",
      "area: 1245\n",
      "population: 74558\n"
     ]
    }
   ],
   "source": [
    "city_data = {\n",
    "    'name': 'Ouro Preto',\n",
    "    'state': 'Minas Gerais',\n",
    "    'elevation': 1150,\n",
    "    'area': 1245,\n",
    "    'population': 74558\n",
    "}\n",
    "\n",
    "for key in city_data:\n",
    "    print(f'{key}: {city_data[key]}')"
   ]
  },
  {
   "cell_type": "markdown",
   "id": "4f6fd7e2",
   "metadata": {},
   "source": [
    "## 🔁 Função Range"
   ]
  },
  {
   "cell_type": "code",
   "execution_count": 14,
   "id": "325c49f3",
   "metadata": {},
   "outputs": [
    {
     "name": "stdout",
     "output_type": "stream",
     "text": [
      "0: London\n",
      "1: Milan\n",
      "2: Paris\n"
     ]
    }
   ],
   "source": [
    "for index in range(len(city_list)):\n",
    "    print(f'{index}: {city_list[index]}')"
   ]
  },
  {
   "cell_type": "code",
   "execution_count": 15,
   "id": "5b1d1ed5",
   "metadata": {},
   "outputs": [
    {
     "name": "stdout",
     "output_type": "stream",
     "text": [
      "['Ouro Preto', 'Ouro Preto', 'Ouro Preto']\n"
     ]
    }
   ],
   "source": [
    "for index in range(len(city_list)):\n",
    "    city_list[index] = 'Ouro Preto'\n",
    "print(city_list)"
   ]
  },
  {
   "cell_type": "markdown",
   "id": "d87b1a5b",
   "metadata": {},
   "source": [
    "**Na função range também é possível forncere parâmetros de início, fim e step**"
   ]
  },
  {
   "cell_type": "code",
   "execution_count": 17,
   "id": "40c4f2a4",
   "metadata": {},
   "outputs": [
    {
     "name": "stdout",
     "output_type": "stream",
     "text": [
      "[0, 1, 2, 3, 4, 5, 6, 7, 8, 9]\n",
      "[2, 3, 4, 5, 6, 7, 8, 9]\n",
      "[2, 4, 6, 8]\n"
     ]
    }
   ],
   "source": [
    "print(list(range(10)))\n",
    "print(list(range(2, 10)))\n",
    "print(list(range(2, 10, 2)))"
   ]
  },
  {
   "cell_type": "markdown",
   "id": "c3aab911",
   "metadata": {},
   "source": [
    "<hr>"
   ]
  },
  {
   "cell_type": "markdown",
   "id": "780d10cb",
   "metadata": {},
   "source": [
    "# 🐍 Funções em Python"
   ]
  },
  {
   "cell_type": "code",
   "execution_count": 18,
   "id": "d1b4d214",
   "metadata": {},
   "outputs": [],
   "source": [
    "def hello():\n",
    "    print('Hello World')"
   ]
  },
  {
   "cell_type": "code",
   "execution_count": 19,
   "id": "a03fa97b",
   "metadata": {},
   "outputs": [
    {
     "name": "stdout",
     "output_type": "stream",
     "text": [
      "Hello World\n"
     ]
    }
   ],
   "source": [
    "hello()"
   ]
  },
  {
   "cell_type": "markdown",
   "id": "56c567fe",
   "metadata": {},
   "source": [
    "## ➗ Exemplo - Média"
   ]
  },
  {
   "cell_type": "code",
   "execution_count": 21,
   "id": "0c243fea",
   "metadata": {},
   "outputs": [],
   "source": [
    "def calc_average(v1, v2, v3):\n",
    "    return (v1 + v2 + v3)/3"
   ]
  },
  {
   "cell_type": "code",
   "execution_count": 22,
   "id": "bb37884b",
   "metadata": {},
   "outputs": [
    {
     "name": "stdout",
     "output_type": "stream",
     "text": [
      "9.0\n"
     ]
    }
   ],
   "source": [
    "print(calc_average(9, 8, 10))"
   ]
  },
  {
   "cell_type": "code",
   "execution_count": 25,
   "id": "ad013714",
   "metadata": {},
   "outputs": [
    {
     "name": "stdout",
     "output_type": "stream",
     "text": [
      "Resultado: 4.666666666666667\n"
     ]
    }
   ],
   "source": [
    "result = calc_average(v1 = 3, v2 = 4, v3 = 7)\n",
    "print(f'Resultado: {result}')"
   ]
  },
  {
   "cell_type": "markdown",
   "id": "d3045a40",
   "metadata": {},
   "source": [
    "## 🔢 Valor default para funções\n",
    "\n",
    "\n",
    "**Caso algum parâmetro não tenha um valor especificado, este será preenchido por um valor padrão pré-definido.**"
   ]
  },
  {
   "cell_type": "code",
   "execution_count": 27,
   "id": "452846f6",
   "metadata": {},
   "outputs": [
    {
     "name": "stdout",
     "output_type": "stream",
     "text": [
      "Olá,\n",
      "Júlia\n"
     ]
    }
   ],
   "source": [
    "print('Olá,')\n",
    "print('Júlia')"
   ]
  },
  {
   "cell_type": "code",
   "execution_count": 29,
   "id": "b3d0bc22",
   "metadata": {},
   "outputs": [
    {
     "name": "stdout",
     "output_type": "stream",
     "text": [
      "Olá, Júlia\n"
     ]
    }
   ],
   "source": [
    "print('Olá,', end=' ')\n",
    "print('Júlia')"
   ]
  },
  {
   "cell_type": "code",
   "execution_count": 30,
   "id": "0a618d03",
   "metadata": {},
   "outputs": [
    {
     "name": "stdout",
     "output_type": "stream",
     "text": [
      "Média: 0.0\n",
      "Média: 3.6666666666666665\n"
     ]
    }
   ],
   "source": [
    "def calc_average(v1 = 0, v2 = 0, v3 = 0):\n",
    "    return (v1 + v2 + v3)/3\n",
    "\n",
    "print(f'Média: {calc_average()}')\n",
    "print(f'Média: {calc_average(2, 4, 5)}')"
   ]
  },
  {
   "cell_type": "markdown",
   "id": "b02818f4",
   "metadata": {},
   "source": [
    "**Obs.: Valores padrão devem vir sempre após os valores não padronizados**"
   ]
  },
  {
   "cell_type": "code",
   "execution_count": 31,
   "id": "74e4797c",
   "metadata": {},
   "outputs": [
    {
     "ename": "SyntaxError",
     "evalue": "non-default argument follows default argument (3444844744.py, line 1)",
     "output_type": "error",
     "traceback": [
      "\u001b[1;36m  Cell \u001b[1;32mIn [31], line 1\u001b[1;36m\u001b[0m\n\u001b[1;33m    def calc_average(v1 = 0, v2, v3 = 0):\u001b[0m\n\u001b[1;37m                             ^\u001b[0m\n\u001b[1;31mSyntaxError\u001b[0m\u001b[1;31m:\u001b[0m non-default argument follows default argument\n"
     ]
    }
   ],
   "source": [
    "def calc_average(v1 = 0, v2, v3 = 0):\n",
    "    return (v1 + v2 + v3)/3"
   ]
  },
  {
   "cell_type": "markdown",
   "id": "1c6409a2",
   "metadata": {},
   "source": [
    "## 📋 Args"
   ]
  },
  {
   "cell_type": "markdown",
   "id": "1940e34b",
   "metadata": {},
   "source": [
    "**Ao utilizarmos Args para passar os parâmetros das funções, estes são mapeados como tuplas. Desse modo, cálculos e outras manipulações devem ser feitos utilizando operações permitidas em tuplas.**"
   ]
  },
  {
   "cell_type": "code",
   "execution_count": 33,
   "id": "cfb0981b",
   "metadata": {},
   "outputs": [
    {
     "name": "stdout",
     "output_type": "stream",
     "text": [
      "<class 'tuple'>\n",
      "<class 'tuple'>\n"
     ]
    }
   ],
   "source": [
    "def calc_average(*args):\n",
    "    print(type(args))\n",
    "    \n",
    "calc_average(10, 3, 2)\n",
    "calc_average(10.0, 3.0, 2.0)"
   ]
  },
  {
   "cell_type": "code",
   "execution_count": 38,
   "id": "4b479667",
   "metadata": {},
   "outputs": [
    {
     "name": "stdout",
     "output_type": "stream",
     "text": [
      "Média: 36.63333333333333\n"
     ]
    }
   ],
   "source": [
    "def calc_average(*args, margin):\n",
    "    total_sum = sum(args)\n",
    "    average = total_sum / len(args)\n",
    "    return average + margin\n",
    "\n",
    "print(f'Média: {calc_average(43, 43, 23, margin = 0.3)}')"
   ]
  },
  {
   "cell_type": "markdown",
   "id": "990ebe99",
   "metadata": {},
   "source": [
    "## 📋 Kwargs"
   ]
  },
  {
   "cell_type": "markdown",
   "id": "f3f8baa6",
   "metadata": {},
   "source": [
    "**O **kwargs possibilita verificarmos os parâmetros nomeados da função, isto é, aqueles parâmetros que são passados com um nome. Eles estarão disponíveis como um dicionário ( {'chave': 'valor'} ) dentro da função.**"
   ]
  },
  {
   "cell_type": "code",
   "execution_count": 39,
   "id": "6dc68923",
   "metadata": {},
   "outputs": [],
   "source": [
    "def print_info(**kwargs):\n",
    "    print(kwargs, type(kwargs))"
   ]
  },
  {
   "cell_type": "code",
   "execution_count": 40,
   "id": "11aef09e",
   "metadata": {},
   "outputs": [
    {
     "name": "stdout",
     "output_type": "stream",
     "text": [
      "{'name': 'Júlia', 'last_name': 'Miranda', 'age': 22} <class 'dict'>\n"
     ]
    }
   ],
   "source": [
    "print_info(name='Júlia', last_name='Miranda', age=22)"
   ]
  }
 ],
 "metadata": {
  "kernelspec": {
   "display_name": "Python 3 (ipykernel)",
   "language": "python",
   "name": "python3"
  },
  "language_info": {
   "codemirror_mode": {
    "name": "ipython",
    "version": 3
   },
   "file_extension": ".py",
   "mimetype": "text/x-python",
   "name": "python",
   "nbconvert_exporter": "python",
   "pygments_lexer": "ipython3",
   "version": "3.10.5"
  }
 },
 "nbformat": 4,
 "nbformat_minor": 5
}
