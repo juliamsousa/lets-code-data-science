{
 "cells": [
  {
   "cell_type": "markdown",
   "id": "ef40879f",
   "metadata": {},
   "source": [
    "# 🐍  Let's Code - Python Basics\n",
    "\n",
    "\n",
    "## 🌎 Primeiro Código - Hello World  "
   ]
  },
  {
   "cell_type": "code",
   "execution_count": 12,
   "id": "a1c95319",
   "metadata": {},
   "outputs": [
    {
     "name": "stdout",
     "output_type": "stream",
     "text": [
      "Hello World!\n"
     ]
    }
   ],
   "source": [
    "print(\"Hello World!\")"
   ]
  },
  {
   "cell_type": "markdown",
   "id": "784bfee9",
   "metadata": {},
   "source": [
    "## ⁉️  Tipos de Variáveis no Python"
   ]
  },
  {
   "cell_type": "code",
   "execution_count": 4,
   "id": "70fb6a37",
   "metadata": {},
   "outputs": [
    {
     "name": "stdout",
     "output_type": "stream",
     "text": [
      "5\n"
     ]
    }
   ],
   "source": [
    "x = 5\n",
    "print(x)"
   ]
  },
  {
   "cell_type": "markdown",
   "id": "e8c2dbb6",
   "metadata": {},
   "source": [
    "### Variáveis do Tipo Int"
   ]
  },
  {
   "cell_type": "code",
   "execution_count": 5,
   "id": "7e42141d",
   "metadata": {},
   "outputs": [
    {
     "name": "stdout",
     "output_type": "stream",
     "text": [
      "10\n",
      "<class 'int'>\n"
     ]
    }
   ],
   "source": [
    "y = 10\n",
    "print(y)\n",
    "print(type(y))"
   ]
  },
  {
   "cell_type": "markdown",
   "id": "aca59e11",
   "metadata": {},
   "source": [
    "### Variáveis do Tipo Float"
   ]
  },
  {
   "cell_type": "code",
   "execution_count": 7,
   "id": "b28c016e",
   "metadata": {},
   "outputs": [
    {
     "name": "stdout",
     "output_type": "stream",
     "text": [
      "1.99 <class 'float'>\n"
     ]
    }
   ],
   "source": [
    "preco = 1.99\n",
    "print(preco, type(preco))"
   ]
  },
  {
   "cell_type": "markdown",
   "id": "020fd5cb",
   "metadata": {},
   "source": [
    "### Valores Textuais - Tipo String"
   ]
  },
  {
   "cell_type": "code",
   "execution_count": 9,
   "id": "4d3c53ea",
   "metadata": {},
   "outputs": [
    {
     "name": "stdout",
     "output_type": "stream",
     "text": [
      "Ouro Preto <class 'str'>\n",
      "MG <class 'str'>\n"
     ]
    }
   ],
   "source": [
    "cidade = \"Ouro Preto\"\n",
    "estado = 'MG'\n",
    "print(cidade, type(cidade))\n",
    "print (estado, type(estado))"
   ]
  },
  {
   "cell_type": "markdown",
   "id": "fbd489c9",
   "metadata": {},
   "source": [
    "### Variáveis do Tipo Boolean"
   ]
  },
  {
   "cell_type": "code",
   "execution_count": 11,
   "id": "b6069f44",
   "metadata": {},
   "outputs": [
    {
     "name": "stdout",
     "output_type": "stream",
     "text": [
      "False <class 'bool'>\n",
      "True <class 'bool'>\n"
     ]
    }
   ],
   "source": [
    "flag = False\n",
    "not_flag = not flag\n",
    "print(flag, type(flag))\n",
    "print(not_flag, type(not_flag))"
   ]
  },
  {
   "cell_type": "markdown",
   "id": "eb283c11",
   "metadata": {},
   "source": [
    "## ➗  Operadores no Python"
   ]
  },
  {
   "cell_type": "code",
   "execution_count": null,
   "id": "cadd071a",
   "metadata": {},
   "outputs": [],
   "source": []
  }
 ],
 "metadata": {
  "kernelspec": {
   "display_name": "Python 3 (ipykernel)",
   "language": "python",
   "name": "python3"
  },
  "language_info": {
   "codemirror_mode": {
    "name": "ipython",
    "version": 3
   },
   "file_extension": ".py",
   "mimetype": "text/x-python",
   "name": "python",
   "nbconvert_exporter": "python",
   "pygments_lexer": "ipython3",
   "version": "3.10.5"
  }
 },
 "nbformat": 4,
 "nbformat_minor": 5
}
