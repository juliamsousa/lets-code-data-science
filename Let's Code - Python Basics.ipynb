{
 "cells": [
  {
   "cell_type": "markdown",
   "id": "a1e104af",
   "metadata": {},
   "source": [
    "# 🐍  Let's Code - Python Basics\n",
    "\n",
    "\n",
    "## 🌎 Primeiro Código - Hello World  "
   ]
  },
  {
   "cell_type": "code",
   "execution_count": 12,
   "id": "89c9e382",
   "metadata": {},
   "outputs": [
    {
     "name": "stdout",
     "output_type": "stream",
     "text": [
      "Hello World!\n"
     ]
    }
   ],
   "source": [
    "print(\"Hello World!\")"
   ]
  },
  {
   "cell_type": "markdown",
   "id": "edb55496",
   "metadata": {},
   "source": [
    "## ⁉️  Tipos de Variáveis no Python"
   ]
  },
  {
   "cell_type": "code",
   "execution_count": 4,
   "id": "d7bc8cfc",
   "metadata": {},
   "outputs": [
    {
     "name": "stdout",
     "output_type": "stream",
     "text": [
      "5\n"
     ]
    }
   ],
   "source": [
    "x = 5\n",
    "print(x)"
   ]
  },
  {
   "cell_type": "markdown",
   "id": "c6c5b296",
   "metadata": {},
   "source": [
    "### Variáveis do Tipo Int"
   ]
  },
  {
   "cell_type": "code",
   "execution_count": 5,
   "id": "0fa38247",
   "metadata": {},
   "outputs": [
    {
     "name": "stdout",
     "output_type": "stream",
     "text": [
      "10\n",
      "<class 'int'>\n"
     ]
    }
   ],
   "source": [
    "y = 10\n",
    "print(y)\n",
    "print(type(y))"
   ]
  },
  {
   "cell_type": "markdown",
   "id": "4fc1fffc",
   "metadata": {},
   "source": [
    "### Variáveis do Tipo Float"
   ]
  },
  {
   "cell_type": "code",
   "execution_count": 7,
   "id": "a46a1b85",
   "metadata": {},
   "outputs": [
    {
     "name": "stdout",
     "output_type": "stream",
     "text": [
      "1.99 <class 'float'>\n"
     ]
    }
   ],
   "source": [
    "preco = 1.99\n",
    "print(preco, type(preco))"
   ]
  },
  {
   "cell_type": "markdown",
   "id": "b7005ea7",
   "metadata": {},
   "source": [
    "### Valores Textuais - Tipo String"
   ]
  },
  {
   "cell_type": "code",
   "execution_count": 9,
   "id": "ebc1226e",
   "metadata": {},
   "outputs": [
    {
     "name": "stdout",
     "output_type": "stream",
     "text": [
      "Ouro Preto <class 'str'>\n",
      "MG <class 'str'>\n"
     ]
    }
   ],
   "source": [
    "cidade = \"Ouro Preto\"\n",
    "estado = 'MG'\n",
    "print(cidade, type(cidade))\n",
    "print (estado, type(estado))"
   ]
  },
  {
   "cell_type": "markdown",
   "id": "b256a7ae",
   "metadata": {},
   "source": [
    "### Variáveis do Tipo Boolean"
   ]
  },
  {
   "cell_type": "code",
   "execution_count": 11,
   "id": "707ffa28",
   "metadata": {},
   "outputs": [
    {
     "name": "stdout",
     "output_type": "stream",
     "text": [
      "False <class 'bool'>\n",
      "True <class 'bool'>\n"
     ]
    }
   ],
   "source": [
    "flag = False\n",
    "not_flag = not flag\n",
    "print(flag, type(flag))\n",
    "print(not_flag, type(not_flag))"
   ]
  },
  {
   "cell_type": "markdown",
   "id": "3dfd0dd6",
   "metadata": {},
   "source": [
    "## ➗  Operadores no Python"
   ]
  },
  {
   "cell_type": "markdown",
   "id": "975c6a8c",
   "metadata": {},
   "source": [
    "### Aritméticos"
   ]
  },
  {
   "cell_type": "code",
   "execution_count": 19,
   "id": "01d6c6c4",
   "metadata": {},
   "outputs": [],
   "source": [
    "x = 50\n",
    "y = 2"
   ]
  },
  {
   "cell_type": "code",
   "execution_count": 23,
   "id": "78d54a82",
   "metadata": {},
   "outputs": [
    {
     "name": "stdout",
     "output_type": "stream",
     "text": [
      "Soma: 52\n",
      "Subtração: 48\n",
      "Multiplicação: 100\n",
      "Divisão (float): 25.0\n"
     ]
    }
   ],
   "source": [
    "print(\"Soma:\", x + y)\n",
    "print(\"Subtração:\", x - y)\n",
    "print(\"Multiplicação:\", x * y)\n",
    "print(\"Divisão (float):\", x / y)"
   ]
  },
  {
   "cell_type": "code",
   "execution_count": 25,
   "id": "74fbce13",
   "metadata": {},
   "outputs": [
    {
     "name": "stdout",
     "output_type": "stream",
     "text": [
      "Exponenciação: 2500\n",
      "Divisão Inteira: 25\n",
      "Módulo: 0\n"
     ]
    }
   ],
   "source": [
    "print(\"Exponenciação:\", x ** y)\n",
    "print(\"Divisão Inteira:\", x // y)\n",
    "print(\"Módulo:\", x % y)"
   ]
  },
  {
   "cell_type": "markdown",
   "id": "02a48f18",
   "metadata": {},
   "source": [
    "### Lógicos"
   ]
  },
  {
   "cell_type": "code",
   "execution_count": 27,
   "id": "a9bbb6ff",
   "metadata": {},
   "outputs": [],
   "source": [
    "exp1 = True\n",
    "exp2 = False"
   ]
  },
  {
   "cell_type": "code",
   "execution_count": 28,
   "id": "71f3f62f",
   "metadata": {},
   "outputs": [
    {
     "name": "stdout",
     "output_type": "stream",
     "text": [
      "Not(!): False\n",
      "Or: True\n",
      "And: False\n"
     ]
    }
   ],
   "source": [
    "print(\"Not(!):\", not(exp1))\n",
    "print(\"Or:\", exp1 or exp2)\n",
    "print(\"And:\", exp1 and exp2)\n"
   ]
  },
  {
   "cell_type": "markdown",
   "id": "8fca2df1",
   "metadata": {},
   "source": [
    "### Relacionais"
   ]
  },
  {
   "cell_type": "code",
   "execution_count": null,
   "id": "f8135782",
   "metadata": {},
   "outputs": [],
   "source": [
    "dolar = 5.3\n",
    "real = 1"
   ]
  },
  {
   "cell_type": "code",
   "execution_count": null,
   "id": "5f479f38",
   "metadata": {},
   "outputs": [],
   "source": [
    "print (\"Dolar > Real:\", dolar > real)\n",
    "print (\"Dolar < Real:\", dolar < real)\n",
    "print (\"Dolar == Real:\", dolar == real)\n",
    "print (\"Dolar >= Real:\", dolar >= real)\n",
    "print (\"Dolar <= Real:\", dolar <= real)\n",
    "print (\"Dolar != Real:\", dolar != real)"
   ]
  },
  {
   "cell_type": "markdown",
   "id": "5adaa935",
   "metadata": {},
   "source": [
    "## 📑  Estruturas Sequenciais"
   ]
  },
  {
   "cell_type": "code",
   "execution_count": 3,
   "id": "d52e8dc3",
   "metadata": {},
   "outputs": [
    {
     "name": "stdout",
     "output_type": "stream",
     "text": [
      "Informe a sua idade: 22\n",
      "A idade fornecida é:  22 <class 'str'>\n"
     ]
    }
   ],
   "source": [
    "idade = input(\"Informe a sua idade: \")\n",
    "print(\"A idade fornecida é: \", idade, type(idade))\n",
    "\n",
    "## A input é do tipo String"
   ]
  },
  {
   "cell_type": "markdown",
   "id": "75a391fd",
   "metadata": {},
   "source": [
    "### Casting de Tipos"
   ]
  },
  {
   "cell_type": "code",
   "execution_count": 2,
   "id": "a1fe74d4",
   "metadata": {},
   "outputs": [
    {
     "name": "stdout",
     "output_type": "stream",
     "text": [
      "22 <class 'int'>\n"
     ]
    }
   ],
   "source": [
    "idade = int(idade)\n",
    "print(idade, type(idade))"
   ]
  },
  {
   "cell_type": "code",
   "execution_count": 4,
   "id": "0a2344db",
   "metadata": {},
   "outputs": [
    {
     "ename": "ValueError",
     "evalue": "invalid literal for int() with base 10: '1223abc'",
     "output_type": "error",
     "traceback": [
      "\u001b[1;31m---------------------------------------------------------------------------\u001b[0m",
      "\u001b[1;31mValueError\u001b[0m                                Traceback (most recent call last)",
      "Cell \u001b[1;32mIn [4], line 2\u001b[0m\n\u001b[0;32m      1\u001b[0m \u001b[38;5;66;03m## Em alguns casos o casting pode dar errado\u001b[39;00m\n\u001b[1;32m----> 2\u001b[0m \u001b[38;5;28;43mint\u001b[39;49m\u001b[43m(\u001b[49m\u001b[38;5;124;43m'\u001b[39;49m\u001b[38;5;124;43m1223abc\u001b[39;49m\u001b[38;5;124;43m'\u001b[39;49m\u001b[43m)\u001b[49m\n",
      "\u001b[1;31mValueError\u001b[0m: invalid literal for int() with base 10: '1223abc'"
     ]
    }
   ],
   "source": [
    "## Em alguns casos o casting pode dar errado\n",
    "int('1223abc')"
   ]
  },
  {
   "cell_type": "code",
   "execution_count": 7,
   "id": "016ab3f7",
   "metadata": {},
   "outputs": [
    {
     "name": "stdout",
     "output_type": "stream",
     "text": [
      "123.54\n",
      "123.54\n",
      "False\n",
      "True\n",
      "False\n"
     ]
    }
   ],
   "source": [
    "print(float('123.54'))\n",
    "print(str(123.54))\n",
    "\n",
    "## Para boolean, caso esteja vazio retorna False e o contrario retorna True\n",
    "print(bool(''))\n",
    "print(bool('abc'))\n",
    "print(bool(0))"
   ]
  },
  {
   "cell_type": "markdown",
   "id": "f0b4e2a1",
   "metadata": {},
   "source": [
    "### Exemplo - Salário Mensal"
   ]
  },
  {
   "cell_type": "code",
   "execution_count": 12,
   "id": "f719df85",
   "metadata": {},
   "outputs": [
    {
     "name": "stdout",
     "output_type": "stream",
     "text": [
      "Digite o valor de seu salário mensal: 2200\n",
      "Digite o valor de seu gasto mensal: 1500\n",
      "O total economizado ao final do ano é de: 8400.0\n"
     ]
    }
   ],
   "source": [
    "salario_mensal = input(\"Digite o valor de seu salário mensal: \")\n",
    "salario_mensal = float(salario_mensal)\n",
    "\n",
    "gasto_mensal = input(\"Digite o valor de seu gasto mensal: \")\n",
    "gasto_mensal = float(gasto_mensal)\n",
    "\n",
    "salario_total = salario_mensal * 12\n",
    "gasto_total = gasto_mensal * 12\n",
    "\n",
    "montante_economizado = salario_total - gasto_total\n",
    "print(\"O total economizado ao final do ano é de:\", montante_economizado)"
   ]
  },
  {
   "cell_type": "markdown",
   "id": "49d6f61d",
   "metadata": {},
   "source": [
    "## ✔️  Estruturas Condicionais\n",
    "\n",
    "### Exemplo - Passagem de Ônibus/Corrid"
   ]
  },
  {
   "cell_type": "code",
   "execution_count": 18,
   "id": "ed1dfc0a",
   "metadata": {},
   "outputs": [
    {
     "name": "stdout",
     "output_type": "stream",
     "text": [
      "Qual o valor da corrida por aplicativo até o destino?: 18\n",
      "Vá de ônibus.\n"
     ]
    }
   ],
   "source": [
    "valor_passagem = 3.35\n",
    "\n",
    "valor_corrida = input(\"Qual o valor da corrida por aplicativo até o destino?: \")\n",
    "valor_corrida = float(valor_corrida)\n",
    "\n",
    "if valor_corrida <= valor_passagem * 5:\n",
    "    print(\"Aceite a corrida.\")\n",
    "else:\n",
    "    print(\"Vá de ônibus.\")"
   ]
  },
  {
   "cell_type": "code",
   "execution_count": 23,
   "id": "a7240a41",
   "metadata": {},
   "outputs": [
    {
     "name": "stdout",
     "output_type": "stream",
     "text": [
      "Qual o valor da corrida por aplicativo até o destino?: 18\n",
      "Aguarde um momento, o valor pode abaixar!\n"
     ]
    }
   ],
   "source": [
    "valor_passagem = 3.35\n",
    "\n",
    "valor_corrida = input(\"Qual o valor da corrida por aplicativo até o destino?: \")\n",
    "valor_corrida = float(valor_corrida)\n",
    "\n",
    "if valor_corrida <= valor_passagem * 5:\n",
    "    print(\"Aceite a corrida.\")\n",
    "elif valor_corrida<= valor_passagem * 6:\n",
    "    print(\"Aguarde um momento, o valor pode abaixar!\")\n",
    "else:\n",
    "    print(\"Vá de ônibus.\")"
   ]
  },
  {
   "cell_type": "code",
   "execution_count": null,
   "id": "2cff2fb6",
   "metadata": {},
   "outputs": [],
   "source": []
  }
 ],
 "metadata": {
  "kernelspec": {
   "display_name": "Python 3 (ipykernel)",
   "language": "python",
   "name": "python3"
  },
  "language_info": {
   "codemirror_mode": {
    "name": "ipython",
    "version": 3
   },
   "file_extension": ".py",
   "mimetype": "text/x-python",
   "name": "python",
   "nbconvert_exporter": "python",
   "pygments_lexer": "ipython3",
   "version": "3.10.5"
  }
 },
 "nbformat": 4,
 "nbformat_minor": 5
}
