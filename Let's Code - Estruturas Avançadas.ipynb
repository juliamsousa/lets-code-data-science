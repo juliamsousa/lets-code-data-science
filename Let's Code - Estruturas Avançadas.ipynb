{
 "cells": [
  {
   "cell_type": "markdown",
   "id": "03bf2eb7",
   "metadata": {},
   "source": [
    "# 🐍  Estruturas Avanças em Python"
   ]
  },
  {
   "cell_type": "markdown",
   "id": "7317eaca",
   "metadata": {},
   "source": [
    "##  🔢 Listas"
   ]
  },
  {
   "cell_type": "code",
   "execution_count": 4,
   "id": "e0be15dc",
   "metadata": {},
   "outputs": [
    {
     "name": "stdout",
     "output_type": "stream",
     "text": [
      "['Brasil', 'Argentina', 'Equador', 'Bósnia', 'Coreia']\n",
      "Tamanho da lista:  5\n"
     ]
    }
   ],
   "source": [
    "country_names = ['Brasil', 'Argentina', 'Equador', 'Bósnia', 'Coreia']\n",
    "print(country_names)\n",
    "print(\"Tamanho da lista: \", len(country_names))"
   ]
  },
  {
   "cell_type": "markdown",
   "id": "6bd92e94",
   "metadata": {},
   "source": [
    "### Acesso indexado da lista"
   ]
  },
  {
   "cell_type": "code",
   "execution_count": 6,
   "id": "cc3e6eb2",
   "metadata": {},
   "outputs": [
    {
     "name": "stdout",
     "output_type": "stream",
     "text": [
      "3º país: Equador\n"
     ]
    }
   ],
   "source": [
    "print(\"3º país:\", country_names[2])"
   ]
  },
  {
   "cell_type": "code",
   "execution_count": 8,
   "id": "16ee42f7",
   "metadata": {},
   "outputs": [
    {
     "name": "stdout",
     "output_type": "stream",
     "text": [
      "3º país: Nova Zelandia\n",
      "['Brasil', 'Argentina', 'Nova Zelandia', 'Bósnia', 'Coreia']\n"
     ]
    }
   ],
   "source": [
    "country_names[2] = \"Nova Zelandia\"\n",
    "print(\"3º país:\", country_names[2])\n",
    "print(country_names)"
   ]
  },
  {
   "cell_type": "markdown",
   "id": "fe83111b",
   "metadata": {},
   "source": [
    "### Índice negativo"
   ]
  },
  {
   "cell_type": "code",
   "execution_count": 7,
   "id": "6ecb530b",
   "metadata": {},
   "outputs": [
    {
     "name": "stdout",
     "output_type": "stream",
     "text": [
      "último país da lista:  Coreia\n"
     ]
    }
   ],
   "source": [
    "#Ao colocarmos um índice negativo, acessamos o último elemento\n",
    "print(\"último país da lista: \", country_names[-1])"
   ]
  },
  {
   "cell_type": "markdown",
   "id": "f0a10c00",
   "metadata": {},
   "source": [
    "### Slice\n",
    "\n",
    "Fornecemos um ídice final e um índice final, lembrando que o último índice informado não é incluído. Assim como no acesso indexado, o slice também aceita índices negativos.\n",
    "\n",
    "Ao omitirmos o ídice inicial subentende-se que a lista começa do primeiro item. Ao omitirmos o índice final subentende-se que deve ser considerado até o último item.\n",
    "\n",
    "É possível também utilizar o slice com step."
   ]
  },
  {
   "cell_type": "code",
   "execution_count": 10,
   "id": "dfb188b6",
   "metadata": {},
   "outputs": [
    {
     "name": "stdout",
     "output_type": "stream",
     "text": [
      "['Argentina', 'Nova Zelandia', 'Bósnia']\n"
     ]
    }
   ],
   "source": [
    "print(country_names[1:4])"
   ]
  },
  {
   "cell_type": "code",
   "execution_count": 12,
   "id": "e5d9fc58",
   "metadata": {},
   "outputs": [
    {
     "name": "stdout",
     "output_type": "stream",
     "text": [
      "['Brasil', 'Argentina', 'Nova Zelandia', 'Bósnia']\n"
     ]
    }
   ],
   "source": [
    "print(country_names[0:-1])"
   ]
  },
  {
   "cell_type": "code",
   "execution_count": 13,
   "id": "bebf2a3d",
   "metadata": {},
   "outputs": [
    {
     "name": "stdout",
     "output_type": "stream",
     "text": [
      "['Brasil', 'Argentina', 'Nova Zelandia', 'Bósnia', 'Coreia']\n"
     ]
    }
   ],
   "source": [
    "print(country_names[0:])"
   ]
  },
  {
   "cell_type": "code",
   "execution_count": 14,
   "id": "4d3eb183",
   "metadata": {},
   "outputs": [
    {
     "name": "stdout",
     "output_type": "stream",
     "text": [
      "['Brasil', 'Argentina', 'Nova Zelandia', 'Bósnia', 'Coreia']\n"
     ]
    }
   ],
   "source": [
    "print(country_names[:])"
   ]
  },
  {
   "cell_type": "code",
   "execution_count": 15,
   "id": "51d31847",
   "metadata": {},
   "outputs": [
    {
     "name": "stdout",
     "output_type": "stream",
     "text": [
      "['Brasil', 'Nova Zelandia', 'Coreia']\n"
     ]
    }
   ],
   "source": [
    "print(country_names[::2])"
   ]
  },
  {
   "cell_type": "code",
   "execution_count": 16,
   "id": "247c9c92",
   "metadata": {},
   "outputs": [
    {
     "name": "stdout",
     "output_type": "stream",
     "text": [
      "['Coreia', 'Bósnia', 'Nova Zelandia', 'Argentina', 'Brasil']\n"
     ]
    }
   ],
   "source": [
    "print(country_names[::-1])"
   ]
  },
  {
   "cell_type": "code",
   "execution_count": 17,
   "id": "2d3cd945",
   "metadata": {},
   "outputs": [
    {
     "name": "stdout",
     "output_type": "stream",
     "text": [
      "True\n"
     ]
    }
   ],
   "source": [
    "print(\"Brasil\" in country_names)"
   ]
  },
  {
   "cell_type": "code",
   "execution_count": 18,
   "id": "39994b0a",
   "metadata": {},
   "outputs": [
    {
     "name": "stdout",
     "output_type": "stream",
     "text": [
      "False\n"
     ]
    }
   ],
   "source": [
    "print(\"Brasil\" not in country_names)"
   ]
  },
  {
   "cell_type": "markdown",
   "id": "3b05b8af",
   "metadata": {},
   "source": [
    "### Append\n",
    "\n",
    "O append é um método de inserir elementos a uma lista, adicionando sempre ao final."
   ]
  },
  {
   "cell_type": "code",
   "execution_count": 29,
   "id": "96f49e1c",
   "metadata": {},
   "outputs": [
    {
     "name": "stdout",
     "output_type": "stream",
     "text": [
      "Capitais dos países:  ['Brasília', 'Buenos Aires', 'Wellington', 'Sarajevo', 'Seul']\n"
     ]
    }
   ],
   "source": [
    "capitals_list = []\n",
    "\n",
    "capitals_list.append(\"Brasília\")\n",
    "capitals_list.append(\"Buenos Aires\")\n",
    "capitals_list.append(\"Wellington\")\n",
    "capitals_list.append(\"Sarajevo\")\n",
    "capitals_list.append(\"Seul\")\n",
    "\n",
    "print(\"Capitais dos países: \", capitals_list)\n"
   ]
  },
  {
   "cell_type": "markdown",
   "id": "e49932a2",
   "metadata": {},
   "source": [
    "### Insert\n",
    "\n",
    "O insert é um método de inserção de elementos em uma lista por meio de um índice."
   ]
  },
  {
   "cell_type": "code",
   "execution_count": 25,
   "id": "91f9f722",
   "metadata": {},
   "outputs": [
    {
     "name": "stdout",
     "output_type": "stream",
     "text": [
      "['Brasília', 'Buenos Aires', 'Paris', 'Wellington', 'Sarajevo', 'Seul']\n"
     ]
    }
   ],
   "source": [
    "capitals_list.insert(2, \"Paris\")\n",
    "print(capitals_list)"
   ]
  },
  {
   "cell_type": "markdown",
   "id": "e2f579ad",
   "metadata": {},
   "source": [
    "### Remove\n",
    "\n",
    "O remove é um método de remoção de item de uma lista."
   ]
  },
  {
   "cell_type": "code",
   "execution_count": 26,
   "id": "4a3a5737",
   "metadata": {},
   "outputs": [
    {
     "name": "stdout",
     "output_type": "stream",
     "text": [
      "['Brasília', 'Buenos Aires', 'Wellington', 'Sarajevo', 'Seul']\n"
     ]
    }
   ],
   "source": [
    "capitals_list.remove(\"Paris\")\n",
    "print(capitals_list)"
   ]
  },
  {
   "cell_type": "markdown",
   "id": "138dad37",
   "metadata": {},
   "source": [
    "### Pop\n",
    "\n",
    "O método pop remove um elemento de uma lista e armazena-o em outra variável.\n"
   ]
  },
  {
   "cell_type": "code",
   "execution_count": 30,
   "id": "b792e88f",
   "metadata": {},
   "outputs": [
    {
     "name": "stdout",
     "output_type": "stream",
     "text": [
      "Capitais removidas: Wellington\n",
      "['Brasília', 'Buenos Aires', 'Sarajevo', 'Seul']\n"
     ]
    }
   ],
   "source": [
    "removed_capitals = capitals_list.pop(2)\n",
    "print(\"Capitais removidas:\", removed_capitals)\n",
    "print(capitals_list)"
   ]
  },
  {
   "cell_type": "markdown",
   "id": "9d46aa38",
   "metadata": {},
   "source": [
    "##  🔢 Tuplas"
   ]
  },
  {
   "cell_type": "code",
   "execution_count": 31,
   "id": "5f51dc9f",
   "metadata": {},
   "outputs": [
    {
     "name": "stdout",
     "output_type": "stream",
     "text": [
      "('Brasil', 'Argentina', 'Equador', 'Bósnia', 'Coreia') <class 'tuple'>\n"
     ]
    }
   ],
   "source": [
    "country_tuple = ('Brasil', 'Argentina', 'Equador', 'Bósnia', 'Coreia')\n",
    "print(country_tuple, type(country_tuple))"
   ]
  },
  {
   "cell_type": "code",
   "execution_count": 32,
   "id": "2edccf58",
   "metadata": {},
   "outputs": [
    {
     "name": "stdout",
     "output_type": "stream",
     "text": [
      "('Brasil', 'Argentina', 'Equador', 'Bósnia', 'Coreia') <class 'tuple'>\n"
     ]
    }
   ],
   "source": [
    "country_tuple = 'Brasil', 'Argentina', 'Equador', 'Bósnia', 'Coreia'\n",
    "print(country_tuple, type(country_tuple))"
   ]
  },
  {
   "cell_type": "code",
   "execution_count": 33,
   "id": "316134b2",
   "metadata": {},
   "outputs": [
    {
     "name": "stdout",
     "output_type": "stream",
     "text": [
      "('São Paulo',) <class 'tuple'>\n"
     ]
    }
   ],
   "source": [
    "state_name = 'São Paulo',\n",
    "print(state_name, type(state_name))"
   ]
  },
  {
   "cell_type": "code",
   "execution_count": 37,
   "id": "06409e43",
   "metadata": {},
   "outputs": [
    {
     "name": "stdout",
     "output_type": "stream",
     "text": [
      "5\n",
      "Brasil\n"
     ]
    }
   ],
   "source": [
    "print(len(country_tuple))\n",
    "print(country_tuple[0])"
   ]
  },
  {
   "cell_type": "markdown",
   "id": "19c7763b",
   "metadata": {},
   "source": [
    "### Unpacking\n",
    "\n",
    "No unpacking \"desembrulhamos\" os elementos da tupla."
   ]
  },
  {
   "cell_type": "code",
   "execution_count": 39,
   "id": "852fe35f",
   "metadata": {},
   "outputs": [
    {
     "name": "stdout",
     "output_type": "stream",
     "text": [
      "Brasil Argentina Equador Bósnia Coreia\n",
      "Brasil Argentina Equador Bósnia Coreia\n"
     ]
    }
   ],
   "source": [
    "c1, c2, c3, c4, c5 = country_tuple\n",
    "print(c1, c2, c3, c4, c5)\n",
    "print(*country_tuple)"
   ]
  }
 ],
 "metadata": {
  "kernelspec": {
   "display_name": "Python 3 (ipykernel)",
   "language": "python",
   "name": "python3"
  },
  "language_info": {
   "codemirror_mode": {
    "name": "ipython",
    "version": 3
   },
   "file_extension": ".py",
   "mimetype": "text/x-python",
   "name": "python",
   "nbconvert_exporter": "python",
   "pygments_lexer": "ipython3",
   "version": "3.10.5"
  }
 },
 "nbformat": 4,
 "nbformat_minor": 5
}
