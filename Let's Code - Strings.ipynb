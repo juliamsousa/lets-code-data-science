{
 "cells": [
  {
   "cell_type": "markdown",
   "id": "70f17029",
   "metadata": {},
   "source": [
    "# 🐍  Strings em Python I"
   ]
  },
  {
   "cell_type": "code",
   "execution_count": 1,
   "id": "0d708147",
   "metadata": {},
   "outputs": [
    {
     "name": "stdout",
     "output_type": "stream",
     "text": [
      "Google\n",
      "Google\n"
     ]
    }
   ],
   "source": [
    "company_one = \"Google\"\n",
    "company_two = 'Google'\n",
    "\n",
    "print(company_one)\n",
    "print(company_two)"
   ]
  },
  {
   "cell_type": "code",
   "execution_count": 2,
   "id": "3b2daf01",
   "metadata": {},
   "outputs": [
    {
     "ename": "SyntaxError",
     "evalue": "unterminated string literal (detected at line 1) (3107827705.py, line 1)",
     "output_type": "error",
     "traceback": [
      "\u001b[1;36m  Cell \u001b[1;32mIn [2], line 1\u001b[1;36m\u001b[0m\n\u001b[1;33m    company_three = 'Let's Code'\u001b[0m\n\u001b[1;37m                               ^\u001b[0m\n\u001b[1;31mSyntaxError\u001b[0m\u001b[1;31m:\u001b[0m unterminated string literal (detected at line 1)\n"
     ]
    }
   ],
   "source": [
    "company_three = 'Let's Code'\n"
   ]
  },
  {
   "cell_type": "code",
   "execution_count": 3,
   "id": "24b0c11c",
   "metadata": {},
   "outputs": [
    {
     "name": "stdout",
     "output_type": "stream",
     "text": [
      "Let's Code\n"
     ]
    }
   ],
   "source": [
    "company_three = \"Let's Code\"\n",
    "print(company_three)"
   ]
  },
  {
   "cell_type": "markdown",
   "id": "ae1e6b04",
   "metadata": {},
   "source": [
    "### Caracter de escape - \\\n",
    "\n",
    "O caracter de escape nos permite escrever frases que contém aspas simples ou duplas em sua composição, assim como outros símbolos que possam ser interpretados de outra forma pelo programa. Esse caracter também pode auxiliar na inserção de novas linhas, tabulações, entre outros."
   ]
  },
  {
   "cell_type": "code",
   "execution_count": 5,
   "id": "c239dec9",
   "metadata": {},
   "outputs": [
    {
     "name": "stdout",
     "output_type": "stream",
     "text": [
      "O professor do curso da Let's Code disse: \"Hoje a pizza é por minha conta\"\n"
     ]
    }
   ],
   "source": [
    "sentence = \"O professor do curso da Let's Code disse: \\\"Hoje a pizza é por minha conta\\\"\"\n",
    "print(sentence)"
   ]
  },
  {
   "cell_type": "markdown",
   "id": "b498297d",
   "metadata": {},
   "source": [
    "### Acesso indexado em Strings"
   ]
  },
  {
   "cell_type": "code",
   "execution_count": 6,
   "id": "dcb8963f",
   "metadata": {},
   "outputs": [
    {
     "name": "stdout",
     "output_type": "stream",
     "text": [
      "G\n",
      "Goo\n"
     ]
    }
   ],
   "source": [
    "print(company_one[0])\n",
    "print(company_one[:3])"
   ]
  },
  {
   "cell_type": "markdown",
   "id": "a6fe4029",
   "metadata": {},
   "source": [
    "### Métodos em Strings"
   ]
  },
  {
   "cell_type": "code",
   "execution_count": 7,
   "id": "73d504c7",
   "metadata": {},
   "outputs": [
    {
     "name": "stdout",
     "output_type": "stream",
     "text": [
      "57 <class 'str'>\n"
     ]
    }
   ],
   "source": [
    "city_names = \"Brasília, Buenos Aires, Paris, Wellington, Sarajevo, Seul\"\n",
    "print(len(city_names), type(city_names))"
   ]
  },
  {
   "cell_type": "code",
   "execution_count": 8,
   "id": "b2a45f22",
   "metadata": {},
   "outputs": [
    {
     "name": "stdout",
     "output_type": "stream",
     "text": [
      "6 <class 'list'>\n"
     ]
    }
   ],
   "source": [
    "city_names = city_names.split(', ')\n",
    "print(len(city_names), type(city_names))"
   ]
  },
  {
   "cell_type": "code",
   "execution_count": 12,
   "id": "128974c2",
   "metadata": {},
   "outputs": [
    {
     "name": "stdout",
     "output_type": "stream",
     "text": [
      "MAIN MENU\n",
      "MAIN MENU\n",
      "MAIN_MENU\n"
     ]
    }
   ],
   "source": [
    "header = \"              MAIN MENU                           \"\n",
    "print(header.strip())\n",
    "\n",
    "header_two = \"******MAIN MENU*********\"\n",
    "print(header.strip())\n",
    "\n",
    "header = \"              MAIN_MENU                           \"\n",
    "print(header.strip())"
   ]
  },
  {
   "cell_type": "code",
   "execution_count": 13,
   "id": "8ae56c3f",
   "metadata": {},
   "outputs": [
    {
     "name": "stdout",
     "output_type": "stream",
     "text": [
      "Rio De Janeiro\n",
      "Rio de janeiro\n",
      "rio de janeiro\n",
      "RIO DE JANEIRO\n"
     ]
    }
   ],
   "source": [
    "city_name = \"rIo DE jaNeirO\"\n",
    "\n",
    "print(city_name.title())\n",
    "print(city_name.capitalize())\n",
    "print(city_name.lower())\n",
    "print(city_name.upper())"
   ]
  },
  {
   "cell_type": "markdown",
   "id": "8d39f44f",
   "metadata": {},
   "source": [
    "### Exemplo - Cidade Maravilhosa"
   ]
  },
  {
   "cell_type": "code",
   "execution_count": 15,
   "id": "c50e77e2",
   "metadata": {},
   "outputs": [
    {
     "name": "stdout",
     "output_type": "stream",
     "text": [
      "Qual cidade do Brasil é conhecida como cidade maravilhosa?rio de janeiro\n",
      "Acertou!\n"
     ]
    }
   ],
   "source": [
    "city_guess = input(\"Qual cidade do Brasil é conhecida como cidade maravilhosa?\")\n",
    "city_guess = city_guess.strip()\n",
    "\n",
    "while city_guess.lower() != \"rio de janeiro\":\n",
    "    print(\"Tente novamente!\")\n",
    "    city_guess = input(\"Qual cidade do Brasil é conhecida como cidade maravilhosa?\")\n",
    "\n",
    "print(\"Acertou!\")"
   ]
  },
  {
   "cell_type": "markdown",
   "id": "aaabae8f",
   "metadata": {},
   "source": [
    "### Exemplo - In"
   ]
  },
  {
   "cell_type": "code",
   "execution_count": 17,
   "id": "38ad2052",
   "metadata": {},
   "outputs": [
    {
     "name": "stdout",
     "output_type": "stream",
     "text": [
      "Pietro foi citado: True\n",
      "Júlia foi citada: True\n",
      "Lucas foi citado: False\n"
     ]
    }
   ],
   "source": [
    "message = \"Você viu o Pietro na sala de ontem? E a Júlia?\"\n",
    "pietro_cited = \"Pietro\" in message\n",
    "julia_cited = \"Júlia\" in message\n",
    "lucas_cited = \"Lucas\" in message\n",
    "\n",
    "print(\"Pietro foi citado:\", pietro_cited)\n",
    "print(\"Júlia foi citada:\", julia_cited)\n",
    "print(\"Lucas foi citado:\", lucas_cited)"
   ]
  },
  {
   "cell_type": "markdown",
   "id": "f80b399d",
   "metadata": {},
   "source": [
    "---------------------------------------------------------"
   ]
  },
  {
   "cell_type": "markdown",
   "id": "569c28bc",
   "metadata": {},
   "source": [
    "# 🐍  Strings em Python II"
   ]
  },
  {
   "cell_type": "code",
   "execution_count": 19,
   "id": "4aa384b0",
   "metadata": {},
   "outputs": [
    {
     "name": "stdout",
     "output_type": "stream",
     "text": [
      "Olá, Júlia\n"
     ]
    }
   ],
   "source": [
    "greetings = \"Olá, \"\n",
    "name = \"Júlia\"\n",
    "print(greetings + name)"
   ]
  },
  {
   "cell_type": "code",
   "execution_count": 20,
   "id": "55ebf0fb",
   "metadata": {},
   "outputs": [
    {
     "name": "stdout",
     "output_type": "stream",
     "text": [
      "JúliaJúliaJúliaJúliaJúlia\n"
     ]
    }
   ],
   "source": [
    "print(name * 5)"
   ]
  },
  {
   "cell_type": "code",
   "execution_count": 27,
   "id": "72848d59",
   "metadata": {},
   "outputs": [
    {
     "name": "stdout",
     "output_type": "stream",
     "text": [
      "Júlia tem 25 anos e 0 filhos.\n"
     ]
    }
   ],
   "source": [
    "name = \"Júlia\"\n",
    "age = 25\n",
    "kids = 0\n",
    "print(name + \" tem \" + str(age) + \" anos e \" + str(kids) + \" filhos.\")"
   ]
  },
  {
   "cell_type": "markdown",
   "id": "61f88cda",
   "metadata": {},
   "source": [
    "### Método Format"
   ]
  },
  {
   "cell_type": "code",
   "execution_count": 28,
   "id": "a2789996",
   "metadata": {},
   "outputs": [
    {
     "name": "stdout",
     "output_type": "stream",
     "text": [
      "Júlia tem 25 anos e 0 filhos.\n"
     ]
    }
   ],
   "source": [
    "print(\"{} tem {} anos e {} filhos.\".format(name, age, kids))"
   ]
  },
  {
   "cell_type": "markdown",
   "id": "e816ced3",
   "metadata": {},
   "source": [
    "<b>É possível especificar a quantidade de casas decimais que desejamos imprimir. Para isso utilizamos da forma a seguir:</b>"
   ]
  },
  {
   "cell_type": "code",
   "execution_count": 29,
   "id": "d3189166",
   "metadata": {},
   "outputs": [
    {
     "name": "stdout",
     "output_type": "stream",
     "text": [
      "O preço da gasolina está a R$3.47\n"
     ]
    }
   ],
   "source": [
    "gas_price = 3.4653\n",
    "print(\"O preço da gasolina está a R${:.2f}\".format(gas_price))"
   ]
  },
  {
   "cell_type": "code",
   "execution_count": 30,
   "id": "c2e165cf",
   "metadata": {},
   "outputs": [
    {
     "name": "stdout",
     "output_type": "stream",
     "text": [
      "Júlia tem 25 anos e 0 filhos.\n"
     ]
    }
   ],
   "source": [
    "print(f\"{name} tem {age} anos e {kids} filhos.\")"
   ]
  },
  {
   "cell_type": "code",
   "execution_count": null,
   "id": "8b56c3a7",
   "metadata": {},
   "outputs": [],
   "source": []
  }
 ],
 "metadata": {
  "kernelspec": {
   "display_name": "Python 3 (ipykernel)",
   "language": "python",
   "name": "python3"
  },
  "language_info": {
   "codemirror_mode": {
    "name": "ipython",
    "version": 3
   },
   "file_extension": ".py",
   "mimetype": "text/x-python",
   "name": "python",
   "nbconvert_exporter": "python",
   "pygments_lexer": "ipython3",
   "version": "3.10.5"
  }
 },
 "nbformat": 4,
 "nbformat_minor": 5
}
