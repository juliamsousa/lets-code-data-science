{
 "cells": [
  {
   "cell_type": "markdown",
   "id": "209969ad",
   "metadata": {},
   "source": [
    "# 🐍  Strings em Python"
   ]
  },
  {
   "cell_type": "code",
   "execution_count": 1,
   "id": "c8f74d15",
   "metadata": {},
   "outputs": [
    {
     "name": "stdout",
     "output_type": "stream",
     "text": [
      "Google\n",
      "Google\n"
     ]
    }
   ],
   "source": [
    "company_one = \"Google\"\n",
    "company_two = 'Google'\n",
    "\n",
    "print(company_one)\n",
    "print(company_two)"
   ]
  },
  {
   "cell_type": "code",
   "execution_count": 2,
   "id": "70f22c13",
   "metadata": {},
   "outputs": [
    {
     "ename": "SyntaxError",
     "evalue": "unterminated string literal (detected at line 1) (3107827705.py, line 1)",
     "output_type": "error",
     "traceback": [
      "\u001b[1;36m  Cell \u001b[1;32mIn [2], line 1\u001b[1;36m\u001b[0m\n\u001b[1;33m    company_three = 'Let's Code'\u001b[0m\n\u001b[1;37m                               ^\u001b[0m\n\u001b[1;31mSyntaxError\u001b[0m\u001b[1;31m:\u001b[0m unterminated string literal (detected at line 1)\n"
     ]
    }
   ],
   "source": [
    "company_three = 'Let's Code'\n"
   ]
  },
  {
   "cell_type": "code",
   "execution_count": 3,
   "id": "26a07d73",
   "metadata": {},
   "outputs": [
    {
     "name": "stdout",
     "output_type": "stream",
     "text": [
      "Let's Code\n"
     ]
    }
   ],
   "source": [
    "company_three = \"Let's Code\"\n",
    "print(company_three)"
   ]
  },
  {
   "cell_type": "markdown",
   "id": "79733128",
   "metadata": {},
   "source": [
    "### Caracter de escape - \\\n",
    "\n",
    "O caracter de escape nos permite escrever frases que contém aspas simples ou duplas em sua composição, assim como outros símbolos que possam ser interpretados de outra forma pelo programa. Esse caracter também pode auxiliar na inserção de novas linhas, tabulações, entre outros."
   ]
  },
  {
   "cell_type": "code",
   "execution_count": 5,
   "id": "25080bae",
   "metadata": {},
   "outputs": [
    {
     "name": "stdout",
     "output_type": "stream",
     "text": [
      "O professor do curso da Let's Code disse: \"Hoje a pizza é por minha conta\"\n"
     ]
    }
   ],
   "source": [
    "sentence = \"O professor do curso da Let's Code disse: \\\"Hoje a pizza é por minha conta\\\"\"\n",
    "print(sentence)"
   ]
  },
  {
   "cell_type": "markdown",
   "id": "d2749ea1",
   "metadata": {},
   "source": [
    "### Acesso indexado em Strings"
   ]
  },
  {
   "cell_type": "code",
   "execution_count": 6,
   "id": "0e0e495f",
   "metadata": {},
   "outputs": [
    {
     "name": "stdout",
     "output_type": "stream",
     "text": [
      "G\n",
      "Goo\n"
     ]
    }
   ],
   "source": [
    "print(company_one[0])\n",
    "print(company_one[:3])"
   ]
  },
  {
   "cell_type": "markdown",
   "id": "7699d263",
   "metadata": {},
   "source": [
    "### Métodos em Strings"
   ]
  },
  {
   "cell_type": "code",
   "execution_count": 7,
   "id": "b77b6208",
   "metadata": {},
   "outputs": [
    {
     "name": "stdout",
     "output_type": "stream",
     "text": [
      "57 <class 'str'>\n"
     ]
    }
   ],
   "source": [
    "city_names = \"Brasília, Buenos Aires, Paris, Wellington, Sarajevo, Seul\"\n",
    "print(len(city_names), type(city_names))"
   ]
  },
  {
   "cell_type": "code",
   "execution_count": 8,
   "id": "e75466b4",
   "metadata": {},
   "outputs": [
    {
     "name": "stdout",
     "output_type": "stream",
     "text": [
      "6 <class 'list'>\n"
     ]
    }
   ],
   "source": [
    "city_names = city_names.split(', ')\n",
    "print(len(city_names), type(city_names))"
   ]
  },
  {
   "cell_type": "code",
   "execution_count": 12,
   "id": "a3067241",
   "metadata": {},
   "outputs": [
    {
     "name": "stdout",
     "output_type": "stream",
     "text": [
      "MAIN MENU\n",
      "MAIN MENU\n",
      "MAIN_MENU\n"
     ]
    }
   ],
   "source": [
    "header = \"              MAIN MENU                           \"\n",
    "print(header.strip())\n",
    "\n",
    "header_two = \"******MAIN MENU*********\"\n",
    "print(header.strip())\n",
    "\n",
    "header = \"              MAIN_MENU                           \"\n",
    "print(header.strip())"
   ]
  },
  {
   "cell_type": "code",
   "execution_count": null,
   "id": "4e2d81d8",
   "metadata": {},
   "outputs": [],
   "source": [
    "city_name = \"rIo DE jaNeirO\"\n",
    "\n",
    "print(city_name.title())\n",
    "print(city_name.capitalize())\n",
    "print(city_name.lower())\n",
    "print(city_name.upper())"
   ]
  }
 ],
 "metadata": {
  "kernelspec": {
   "display_name": "Python 3 (ipykernel)",
   "language": "python",
   "name": "python3"
  },
  "language_info": {
   "codemirror_mode": {
    "name": "ipython",
    "version": 3
   },
   "file_extension": ".py",
   "mimetype": "text/x-python",
   "name": "python",
   "nbconvert_exporter": "python",
   "pygments_lexer": "ipython3",
   "version": "3.10.5"
  }
 },
 "nbformat": 4,
 "nbformat_minor": 5
}
